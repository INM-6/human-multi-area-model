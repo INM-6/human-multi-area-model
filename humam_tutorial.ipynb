{
 "cells": [
  {
   "cell_type": "markdown",
   "id": "1868164b",
   "metadata": {},
   "source": [
    "# Multi-Scale Spiking Network Model of Human Cerebral Cortex"
   ]
  },
  {
   "cell_type": "markdown",
   "id": "1df3ec9f",
   "metadata": {},
   "source": [
    "**Model overview**: The model comprises all 34 areas of the Desikan-Killiany parcellation in one hemisphere of human cerebral cortex. Each area is modeled by a column with $\\mathrm{1\\mathrm{mm^{2}}}$ cortical surface. Within each column, the full number of neurons and synapses based on anatomical data is included. In total, this leads to 3.47 million neurons and 42.8 billion synapses. Both the intrinsic and the cortico-cortical connectivity are layer- and population-specific."
   ]
  },
  {
   "cell_type": "markdown",
   "id": "edec8345-aec1-419e-b9e3-7f612aff8262",
   "metadata": {},
   "source": [
    "<img src=\"./figures/model_overview.png\" alt=\"Model overview\" width=\"1000\"/>"
   ]
  },
  {
   "cell_type": "markdown",
   "id": "8379187e",
   "metadata": {},
   "source": [
    "# Down-scaled human multi-area model"
   ]
  },
  {
   "cell_type": "markdown",
   "id": "f4a649cc-3b68-49e4-b2b6-6f29f13a6d9c",
   "metadata": {},
   "source": [
    "This code in this notebook implements the down-scaled version of the multi-scale, spiking network model of human cortex developed at the Institute of Advanced Simulation (IAS-6), Research Center Jülich. The model has been documented in the following publication:\n",
    "\n",
    "- [1] Pronold, J., Meegen, A. van, Shimoura, R. O., Vollenbröker, H., Senden, M., Hilgetag, C. C., Bakker, R., & Albada, S. J. (2024). Multi-scale spiking network model of human cerebral cortex. Cerebral Cortex. [https://doi.org/10.1093/cercor/bhae409](https://doi.org/10.1093/cercor/bhae409)."
   ]
  },
  {
   "cell_type": "markdown",
   "id": "b952d0ea",
   "metadata": {
    "tags": []
   },
   "source": [
    "## Notebook Outline <a class=\"anchor\" id=\"toc\"></a>\n",
    "* [S0. Configuration](#section_0)\n",
    "* [S1. Parameterization](#section_1)\n",
    "    * [1.1. Parameters to tune](#section_1_1)\n",
    "* [S2. Model Configuration, Instantiation and Simulation](#section_2)\n",
    "    * [2.1. Configuring model parameters](#section_2_1)\n",
    "    * [2.2. Instantiate a multi-area model](#section_2_2)\n",
    "    * [2.3. Predict firing rates from theory](#section_2_3)\n",
    "    * [2.4. Extract and visualize inter-areal connectivity](#section_2_3)\n",
    "    * [2.5. Run a simulation](#section_2_5)\n",
    "* [S3. Visualization of Network Dynamics](#section_3) \n",
    "    * [3.1. Mean firing rate over simulated populations](#section_3_1)\n",
    "    * [3.2. Instantaneous firing rate over simulated areas](#section_3_2)\n",
    "    * [3.3. Time-averaged firing rate over all populations](#section_3_3)\n",
    "    * [3.4. Network dynamics](#section_3_4)\n",
    "    * [3.5. Functional connectivity](#section_3_5)\n",
    "* [Additional Notes](#section_4)"
   ]
  },
  {
   "cell_type": "markdown",
   "id": "d782e527",
   "metadata": {
    "tags": []
   },
   "source": [
    "## S0. Configuration <a class=\"anchor\" id=\"section_0\"></a>"
   ]
  },
  {
   "cell_type": "code",
   "execution_count": null,
   "id": "96517739",
   "metadata": {
    "tags": []
   },
   "outputs": [],
   "source": [
    "import os\n",
    "import sys\n",
    "import importlib.util\n",
    "\n",
    "# Add the source directory to the system path\n",
    "sys.path.append('./src/')\n",
    "\n",
    "# Local application imports\n",
    "from helpers.snakemake import nested_dict_update, get_git_revision_hash\n",
    "from default_net_params import params as net_params\n",
    "from data_preprocessing.cytoarchitecture import NeuronNumbers\n",
    "from data_preprocessing.connectivity import SynapseNumbers\n",
    "from network import Network, networkDictFromDump\n",
    "from default_sim_params import params as sim_params\n",
    "from simulation import Simulation\n",
    "from simulation import simulationDictFromDump\n",
    "from analysis import Analysis\n",
    "from default_ana_params import params as ana_params"
   ]
  },
  {
   "cell_type": "markdown",
   "id": "27160ba8",
   "metadata": {},
   "source": [
    "Go back to [Notebook Outline](#toc)"
   ]
  },
  {
   "cell_type": "markdown",
   "id": "df83f5ea-1c4b-44d3-9926-01786aa46e14",
   "metadata": {
    "tags": []
   },
   "source": [
    "## S1. Parameterization <a class=\"anchor\" id=\"section_1\"></a>"
   ]
  },
  {
   "cell_type": "markdown",
   "id": "30655817",
   "metadata": {},
   "source": [
    "### 1.1. Parameters to tune <a class=\"anchor\" id=\"section_1_1\"></a>"
   ]
  },
  {
   "cell_type": "markdown",
   "id": "9daf88e5-0d45-4529-a228-70c33900b05e",
   "metadata": {},
   "source": [
    "The values assigned for the following parameters are kept the same as in the paper except for the `scaling_factor` which is set as 0.005 enabling to simulate a down-scaled multi-area model with 2GB RAM. By default, it is set to 1.0 for simulating the full-scale model."
   ]
  },
  {
   "cell_type": "code",
   "execution_count": 2,
   "id": "3367970c",
   "metadata": {},
   "outputs": [],
   "source": [
    "# Set scaling parameters\n",
    "# value range/options: (0, 1.], change it to 1. to simulate the full-scale network\n",
    "scaling_factor = 0.006\n",
    "\n",
    "# Scaling factor for cortico-cortical connections (Chi) to excitatory neurons.\n",
    "# Chi = 0.0 removes long-range cortico-cortical connections.\n",
    "# Chi = 1.0 produces base version results in Pronold et al. (2024).\n",
    "# Chi = 2.5 produces best fit version results in Pronold et al. (2024).\n",
    "# obs: Chi to inhibitory neurons is set to 2.0 times the scaling factor for excitatory neurons.\n",
    "net_params['cc_scalingEtoE'] = 1.0"
   ]
  },
  {
   "cell_type": "markdown",
   "id": "1472e9c5",
   "metadata": {},
   "source": [
    "Go back to [Notebook Outline](#toc)"
   ]
  },
  {
   "cell_type": "markdown",
   "id": "de4a6703",
   "metadata": {
    "tags": []
   },
   "source": [
    "## S2. Model Configuration, Instantiation and Simulation <a class=\"anchor\" id=\"section_2\"></a>"
   ]
  },
  {
   "cell_type": "markdown",
   "id": "9608b6d9-c7e4-4b2d-9c2b-0d43c6415b48",
   "metadata": {},
   "source": [
    "### 2.1. Configuring model parameters <a class=\"anchor\" id=\"section_2_1\"></a>"
   ]
  },
  {
   "cell_type": "markdown",
   "id": "56e2b6f6-d67a-4a74-973b-c8507a975bf8",
   "metadata": {},
   "source": [
    "We try our best not to confuse users with too many parameters. So, the few parameters tunned will be automatically assigned in this section to properly run the simulation. \n",
    "\n",
    "However, if you want to explore the model, you can alter other parameters related to the network or simulation configuration by passing them in the `net_params` and `sim_params` dictionaries below. If this is not the case, you can execute the cell the way it is."
   ]
  },
  {
   "cell_type": "code",
   "execution_count": 3,
   "id": "9af04cb1",
   "metadata": {},
   "outputs": [],
   "source": [
    "# Get path to the output directory\n",
    "outpath = net_params['outpath']\n",
    "\n",
    "# Get base path\n",
    "base_path = os.getcwd()\n",
    "\n",
    "# Set the scaling factor for the number of neurons and synapses\n",
    "net_params['N_scaling'] = scaling_factor\n",
    "net_params['K_scaling'] = scaling_factor\n",
    "\n",
    "# Mean fullscale firing rate to scale the firing rates of the neurons\n",
    "net_params['fullscale_rates'] = './simulated_data/base_theory_rates.pkl'\n",
    "\n",
    "# Scaling factor for cortico-cortical connections (Chi) to inhibitory neurons.\n",
    "# it is set to 2.0 times the scaling factor for excitatory neurons.\n",
    "# This keeps the stability of the network.\n",
    "net_params['cc_scalingEtoI'] = net_params['cc_scalingEtoE']*2.0\n",
    "\n",
    "# Set simulation parameters\n",
    "sim_params['t_sim'] = 2000.0        # Simulation time in ms\n",
    "sim_params['master_seed'] = 2903    # Seed for the random number generator\n",
    "num_threads = int(4)                # Number of threads to use for the simulation \n",
    "\n",
    "# Set plotting parameters\n",
    "ana_params['plotRasterArea']['low'] = 1600      # Lower bound of the area to plot the raster plot\n",
    "ana_params['plotRasterArea']['high'] = 2000     # Upper bound of the area to plot the raster plot\n",
    "ana_params['plotRasterArea']['fraction'] = 0.5  # Fraction of neurons to plot in the raster plot"
   ]
  },
  {
   "cell_type": "markdown",
   "id": "b3b5f634-284d-4b7b-88f6-17d26fb7743c",
   "metadata": {},
   "source": [
    "Go back to [Notebook Outline](#toc)"
   ]
  },
  {
   "cell_type": "markdown",
   "id": "1fd58841",
   "metadata": {
    "tags": []
   },
   "source": [
    "### 2.2. Instantiate and run the simulation <a class=\"anchor\" id=\"section_2_2\"></a>"
   ]
  },
  {
   "cell_type": "code",
   "execution_count": null,
   "id": "5d35078f",
   "metadata": {},
   "outputs": [],
   "source": [
    "# Create NeuroNumbers class\n",
    "# This class calculates the number of neurons in the network\n",
    "NN = NeuronNumbers(\n",
    "    surface_area=net_params['surface_area'],\n",
    "    **net_params['cytoarchitecture_params']\n",
    ")\n",
    "# Create SynapseNumbers class\n",
    "# This class calculates the number of synapses in the network\n",
    "SN = SynapseNumbers(\n",
    "    NN=NN,\n",
    "    **net_params['predictive_connectomic_params']\n",
    ")\n",
    "\n",
    "# Create Network\n",
    "# This class creates the network\n",
    "net = Network(NN, SN, net_params)\n",
    "# Extract the network dictionary\n",
    "net.dump(outpath)\n",
    "# Get the network hash for further reference\n",
    "net_hash = net.getHash()"
   ]
  },
  {
   "cell_type": "markdown",
   "id": "91649c30",
   "metadata": {},
   "source": [
    "### 2.3. Predict firing rates from theory <a class=\"anchor\" id=\"section_2_3\"></a>"
   ]
  },
  {
   "cell_type": "markdown",
   "id": "07cc84bf-dbcf-4ac3-b76e-ebe0886b4012",
   "metadata": {},
   "source": [
    "Note: the prediction may differ from the simulation results, especially in the presence of synchrony."
   ]
  },
  {
   "cell_type": "code",
   "execution_count": 5,
   "id": "6a7ddf0e",
   "metadata": {},
   "outputs": [],
   "source": [
    "# p, r = M.theory.integrate_siegert()\n",
    "\n",
    "# print(\"Mean-field theory predicts an average \"\n",
    "#       \"firing rate of {0:.3f} spikes/s across all populations.\".format(np.mean(r[:, -1])))"
   ]
  },
  {
   "cell_type": "markdown",
   "id": "c361fa92-4f50-4519-9592-60a39888a12b",
   "metadata": {},
   "source": [
    "Go back to [Notebook Outline](#toc)"
   ]
  },
  {
   "cell_type": "markdown",
   "id": "2062ddf3",
   "metadata": {},
   "source": [
    "### 2.4. Extract and visualize inter-areal connectivity <a class=\"anchor\" id=\"section_2_4\"></a>"
   ]
  },
  {
   "cell_type": "markdown",
   "id": "8a7c09e0",
   "metadata": {},
   "source": [
    "The connectivity and neuron numbers are stored in the attributes of the model class. \n",
    "- Neuron numbers of all populations in each area are stored in `M.N` as a dictionary (and in `M.N_vec` as an array).\n",
    "\n",
    "- Indegrees are stored in `M.K` as a dictionary (and in `M.K_matrix` as an array).<br>\n",
    "  Dictionary of nodes indegrees organized as:<br>\n",
    "  `{<target_area>: {<target_pop>: {<source_area>: {<source_pop>: indegree_values}}}}`\n",
    "\n",
    "- Number of synapses can be accessed via `M.synapses` (and in `M.syn_matrix` as an array). <br>\n",
    "  Dictionary of synapses that target neurons receive, it is organized as:<br>\n",
    "  `{<target_area>: {<target_pop>: {<source_area>: {<source_pop>: number_of_synapses}}}}`"
   ]
  },
  {
   "cell_type": "markdown",
   "id": "6b473f0e-ceca-47e1-9563-a613574497c4",
   "metadata": {},
   "source": [
    "The figure below shows the inter-areal connectivity of the model expressed as the relative indegrees of each target area. The relative indegree of a target area from a specific source area is calculated by dividing its indegree by the sum of indegrees that the target area receives from all sources."
   ]
  },
  {
   "cell_type": "markdown",
   "id": "5c15ee30-b5eb-4024-b127-98ab68337ec0",
   "metadata": {},
   "source": [
    "Comparable figure in our publications: <br>\n",
    "1. Schmidt M, Bakker R, Hilgetag CC, Diesmann M & van Albada SJ <br>\n",
    "   Multi-scale account of the network structure of macaque visual cortex\n",
    "   Brain Structure and Function (2018), 223: 1409 [https://doi.org/10.1007/s00429-017-1554-4](https://doi.org/10.1007/s00429-017-1554-4) <br>\n",
    "   **Fig. 4D Area-level connectivity of the model, based on data in a–c, expressed as relative indegrees for each target area.**"
   ]
  },
  {
   "cell_type": "code",
   "execution_count": 6,
   "id": "05512922-26e5-425f-90a4-0df7c2279ccf",
   "metadata": {},
   "outputs": [],
   "source": [
    "#TODO"
   ]
  },
  {
   "cell_type": "markdown",
   "id": "e67f37e9-ec8d-4bb1-bd21-45e966f47ab6",
   "metadata": {},
   "source": [
    "Go back to [Notebook Outline](#toc)"
   ]
  },
  {
   "cell_type": "markdown",
   "id": "0c1cad59-81d0-4e24-ac33-13c4ca8c6dec",
   "metadata": {},
   "source": [
    "### 2.5. Run a simulation <a class=\"anchor\" id=\"section_2_5\"></a>\n",
    "\n",
    "Run the simulation, depending on the model parameter and downscale ratio, the running time varies largely."
   ]
  },
  {
   "cell_type": "code",
   "execution_count": null,
   "id": "5d8ae2b8",
   "metadata": {},
   "outputs": [],
   "source": [
    "# Read network dict\n",
    "net_folder = os.path.join(outpath, net_hash)\n",
    "net_dict = networkDictFromDump(net_folder)\n",
    "\n",
    "# Create Simulation class\n",
    "sim = Simulation(sim_params, net_dict)\n",
    "# Extract the simulation dictionary\n",
    "sim.dump(net_folder)\n",
    "# Get the simulation hash\n",
    "sim_hash = sim.getHash()\n",
    "\n",
    "# Set output directory according to hashes\n",
    "# and run the simulation\n",
    "data_path = os.path.join(outpath, net_hash, sim_hash)\n",
    "sim.setup(data_path, num_threads)\n",
    "sim.simulate()"
   ]
  },
  {
   "cell_type": "markdown",
   "id": "72a89aeb-78b9-4642-be0d-6de4d6c8f817",
   "metadata": {},
   "source": [
    "**Reminder**: The spike trains of simulated results are saved to the folder with path `./out/<net_hash>/<sim_hash>/spikes/`, where `<net_hash>` and `<sim_hash>` are generated in 2.2 and in this section respectively. All statistics describing network dynamics are computed from the saved spike trains."
   ]
  },
  {
   "cell_type": "markdown",
   "id": "fd6e3232",
   "metadata": {},
   "source": [
    "Go back to [Notebook Outline](#toc)"
   ]
  },
  {
   "cell_type": "markdown",
   "id": "bb71c922",
   "metadata": {
    "tags": []
   },
   "source": [
    "## S3. Visualization of Network Dynamics <a class=\"anchor\" id=\"section_3\"></a>"
   ]
  },
  {
   "cell_type": "markdown",
   "id": "5d150e0d-9174-4737-be1d-0fa2ac282419",
   "metadata": {},
   "source": [
    "**Important**: `cc_weights_factor` plays a crucial role in transitioning the network activity from the base to the best-fit version.  In the full-scale network, the base and best-fit versions activities are achieved when this parameter is set to `1.0` and `2.5`, respectively."
   ]
  },
  {
   "cell_type": "code",
   "execution_count": null,
   "id": "e41ac4de",
   "metadata": {},
   "outputs": [],
   "source": [
    "# Read simulation dict\n",
    "sim_folder = os.path.join(outpath, net_hash, sim_hash)\n",
    "sim_dict = simulationDictFromDump(sim_folder)\n",
    "\n",
    "# Create Analysis class and export it\n",
    "ana = Analysis(ana_params, net_dict, sim_dict, sim_folder, base_path)\n",
    "ana.dump(sim_folder)"
   ]
  },
  {
   "cell_type": "markdown",
   "id": "38ddd973",
   "metadata": {
    "tags": []
   },
   "source": [
    "### 3.1. Mean firing rate over simulated populations <a class=\"anchor\" id=\"section_3_1\"></a>"
   ]
  },
  {
   "cell_type": "code",
   "execution_count": null,
   "id": "bea30fc8",
   "metadata": {},
   "outputs": [],
   "source": [
    "# Print the mean firing rate over simulated populations\n",
    "mean_rates_per_pop = ana.meanFiringRate()\n",
    "print(\"Average firing rate: {:.2f} spikes/s\".format(mean_rates_per_pop.mean()))"
   ]
  },
  {
   "cell_type": "markdown",
   "id": "2714fd2b-df6e-45b9-a7f4-f240a8c65ecf",
   "metadata": {
    "tags": []
   },
   "source": [
    "### 3.2. Instantaneous firing rate over simulated areas <a class=\"anchor\" id=\"section_3_2\"></a>"
   ]
  },
  {
   "cell_type": "code",
   "execution_count": null,
   "id": "68965e32",
   "metadata": {},
   "outputs": [],
   "source": [
    "rate_hist, rate_hist_areas = ana.firingRateHistogram()"
   ]
  },
  {
   "cell_type": "code",
   "execution_count": null,
   "id": "c7216a16",
   "metadata": {},
   "outputs": [],
   "source": [
    "import seaborn as sns\n",
    "import pandas as pd\n",
    "import matplotlib.pyplot as plt\n",
    "\n",
    "# Convert rate_hist_areas to a DataFrame for easier plotting\n",
    "rate_hist_areas *= 1000  # Convert to spikes/s\n",
    "rate_hist_areas_df = pd.DataFrame(rate_hist_areas.tolist(), index=rate_hist_areas.index)\n",
    "\n",
    "# Plot the heatmap with an orange-yellow color palette\n",
    "plt.figure(figsize=(12, 5))\n",
    "sns.heatmap(rate_hist_areas_df, cmap='YlOrBr', cbar_kws={'label': 'Spikes/s'}, yticklabels=rate_hist_areas_df.index)\n",
    "plt.xlabel('Time (ms)')\n",
    "plt.ylabel('Area')\n",
    "plt.title('Instantaneous firing rate over simulated areas')\n",
    "plt.xticks(rotation=0)  # Rotate x-axis labels to make the times horizontal\n",
    "plt.xlim(sim_params['t_sim']-500, sim_params['t_sim'])\n",
    "plt.tight_layout()\n",
    "plt.show()\n"
   ]
  },
  {
   "cell_type": "markdown",
   "id": "de0317c8-1fcd-405c-b0c9-36336aa1f3ad",
   "metadata": {},
   "source": [
    "### 3.3. Time-averaged firing rate over simulated populations <a class=\"anchor\" id=\"section_3_3\"></a>"
   ]
  },
  {
   "cell_type": "markdown",
   "id": "b6746ea4-91bd-44f5-acb6-83df15b05480",
   "metadata": {},
   "source": [
    "An overview of time-averaged firing rate over simulated populations encoded in colors with areas along x-axis and populations along y-axis. Layers that are not present in the model for specific areas are represented by the \"X\" mark."
   ]
  },
  {
   "cell_type": "code",
   "execution_count": null,
   "id": "14fa641f-0371-413e-945c-c8d4579aead6",
   "metadata": {},
   "outputs": [],
   "source": [
    "import matplotlib.pyplot as plt\n",
    "\n",
    "# Pivot the DataFrame to have areas on the x-axis and layer+pop on the y-axis\n",
    "mean_rates_df = mean_rates_per_pop.reset_index().pivot(index=['layer', 'pop'], columns='area', values=0)\n",
    "\n",
    "# Create a new index combining layer and pop\n",
    "mean_rates_df.index = mean_rates_df.index.map(lambda x: f\"{x[0]}_{x[1]}\")\n",
    "\n",
    "# Create a mask for NaN values\n",
    "mask = mean_rates_df.isna()\n",
    "\n",
    "# Plot the heatmap with external grid\n",
    "plt.figure(figsize=(12, 4.5))\n",
    "sns.heatmap(mean_rates_df, cmap='YlOrBr', fmt=\".2f\", mask=mask, cbar_kws={'label': 'Spikes/s'})\n",
    "plt.title('Time-averaged firing rate over simulated populations')\n",
    "plt.xlabel('Area')\n",
    "plt.ylabel('Population')\n",
    "\n",
    "# Rotate x-tick and y-tick labels\n",
    "plt.yticks(rotation=0)\n",
    "\n",
    "# Plot X marks for NaN values\n",
    "for i in range(mean_rates_df.shape[0]):\n",
    "    for j in range(mean_rates_df.shape[1]):\n",
    "        if mask.iloc[i, j]:\n",
    "            plt.text(j + 0.5, i + 0.5, 'X', ha='center', va='center', color='black', fontsize=12, weight='bold')\n",
    "\n",
    "plt.tight_layout()\n",
    "plt.show()"
   ]
  },
  {
   "cell_type": "markdown",
   "id": "e91c436e-db94-4cd7-a531-29c032efeeae",
   "metadata": {},
   "source": [
    "### 3.4. Network dynamics <a class=\"anchor\" id=\"section_3_4\"></a>"
   ]
  },
  {
   "cell_type": "markdown",
   "id": "2ab1e9e5-3eb8-40b2-a4e9-2e749978878d",
   "metadata": {},
   "source": [
    "Comparable figures in our publications: <br>\n",
    "1. Schmidt M, Bakker R, Shen K, Bezgin B, Diesmann M & van Albada SJ (2018)\n",
    "   A multi-scale layer-resolved spiking network model of\n",
    "   resting-state dynamics in macaque cortex. PLOS Computational Biology, 14(9): e1006359. [https://doi.org/10.1371/journal.pcbi.1006359](https://doi.org/10.1371/journal.pcbi.1006359) <br>\n",
    "   **Fig 3.  Ground state of the model.** <br>\n",
    "   **Fig 5.  Resting state of the model with χ = 1.9 (metastable state).**"
   ]
  },
  {
   "cell_type": "code",
   "execution_count": null,
   "id": "ae19bcc3",
   "metadata": {
    "tags": []
   },
   "outputs": [],
   "source": [
    "ana.popGids = ana._readPopGids()\n",
    "ana.spikes = ana._readSpikes()\n",
    "for area in net.net['area_list']:\n",
    "    ana.plotRasterArea(area)"
   ]
  },
  {
   "cell_type": "markdown",
   "id": "b53058b5-c0bd-4837-8289-9226872317cc",
   "metadata": {},
   "source": [
    "### 3.5. Functional connectivity <a class=\"anchor\" id=\"section_3_5\"></a>"
   ]
  },
  {
   "cell_type": "markdown",
   "id": "013adaf8-af8b-470e-94f0-b69121d1ca2c",
   "metadata": {},
   "source": [
    "Comparison of area-level functional connectivity (FC) between the down-scaled HuMAM and human experimental data. (A) Simulated FC measured by the zero-time-lag correlation coefficient of synaptic input currents. (B) FC of human resting-state fMRI (see Materials and methods)."
   ]
  },
  {
   "cell_type": "code",
   "execution_count": null,
   "id": "b4b25621-618d-4594-8cf7-9b9002837d69",
   "metadata": {},
   "outputs": [],
   "source": [
    "#TODO"
   ]
  },
  {
   "cell_type": "markdown",
   "id": "ef74ca3e-98dc-49c9-a4a0-2c640e29b1d9",
   "metadata": {},
   "source": [
    "Go back to [Notebook Outline](#toc)"
   ]
  },
  {
   "cell_type": "markdown",
   "id": "eb4bdea1-384f-41b3-8d8c-7bd568ae1537",
   "metadata": {
    "tags": []
   },
   "source": [
    "## Additional Notes <a class=\"anchor\" id=\"section_4\"></a>"
   ]
  },
  {
   "cell_type": "markdown",
   "id": "cd25cb76-31eb-4c06-9bf8-a0407967b141",
   "metadata": {},
   "source": [
    "1. Simulation data <br>\n",
    "The spike data of all simulated populations for all simulations are saved, by default, in `./out/<network_hash>/<simulation_hash>/spikes` where `<simulation_hash>` can be accessed in the output of 2.2. Or users can see their latest simulation by checking the column \"Last Modified\" and find the folder with the latest change.\n",
    "2. Statistics <br>\n",
    "The statistics of network dynamics computed from the spike trains can be found in `./out/<network_hash>/<simulation_hash>/<analysis_hash>`. You may calculate more statistics from the functions defined in `./src/analysis.py` to explore more about network dynamics."
   ]
  },
  {
   "cell_type": "markdown",
   "id": "ae940386-f9ec-4556-93bb-f63c7053cbd3",
   "metadata": {},
   "source": [
    "Go back to [Notebook Outline](#toc)"
   ]
  }
 ],
 "metadata": {
  "kernelspec": {
   "display_name": "humam_nest2.20.2",
   "language": "python",
   "name": "python3"
  },
  "language_info": {
   "codemirror_mode": {
    "name": "ipython",
    "version": 3
   },
   "file_extension": ".py",
   "mimetype": "text/x-python",
   "name": "python",
   "nbconvert_exporter": "python",
   "pygments_lexer": "ipython3",
   "version": "3.9.19"
  }
 },
 "nbformat": 4,
 "nbformat_minor": 5
}
