{
 "cells": [
  {
   "cell_type": "code",
   "execution_count": null,
   "metadata": {},
   "outputs": [],
   "source": [
    "import os\n",
    "import sys\n",
    "import importlib.util\n",
    "\n",
    "sys.path.append('./src/')\n",
    "\n",
    "from helpers.snakemake import nested_dict_update, get_git_revision_hash\n",
    "from default_net_params import params as net_params\n",
    "from data_preprocessing.cytoarchitecture import NeuronNumbers\n",
    "from data_preprocessing.connectivity import SynapseNumbers\n",
    "from network import Network"
   ]
  },
  {
   "cell_type": "code",
   "execution_count": null,
   "metadata": {},
   "outputs": [],
   "source": [
    "# Set base path\n",
    "base_path = os.getcwd()\n",
    "experiments_path = os.path.join(base_path, 'experiments')"
   ]
  },
  {
   "cell_type": "code",
   "execution_count": null,
   "metadata": {},
   "outputs": [],
   "source": [
    "# Load script from specified path sys.argv[1] (snakemake {input})\n",
    "# Does nothing else than `import path/to/script as exp` would do\n",
    "experiment_file = './experiments/experiment_stabilized_groundstate.py'\n",
    "# experiment_file = './experiments/experiment_stabilized_bestfit.py'\n",
    "conf_name, _ = os.path.splitext(os.path.basename(experiment_file))\n",
    "conf_path = os.path.join(os.getcwd(), experiment_file)\n",
    "spec = importlib.util.spec_from_file_location(conf_name, conf_path)\n",
    "exp = importlib.util.module_from_spec(spec)\n",
    "spec.loader.exec_module(exp)"
   ]
  },
  {
   "cell_type": "code",
   "execution_count": null,
   "metadata": {},
   "outputs": [],
   "source": [
    "# Update default parameters with parameters specified in exp\n",
    "nested_dict_update(net_params, exp.net_params)\n",
    "outpath = net_params['outpath']\n",
    "\n",
    "# Set simulation parameters\n",
    "exp.sim_params['t_sim'] = 2000.0\n",
    "\n",
    "# Set plotting parameters\n",
    "exp.ana_params['plotRasterArea']['low'] = 1500\n",
    "exp.ana_params['plotRasterArea']['high'] = 2000\n",
    "exp.ana_params['plotRasterArea']['fraction'] = 0.5\n",
    "\n",
    "# Set scaling parameters\n",
    "scaling_factor = 0.005\n",
    "net_params['N_scaling'] = scaling_factor\n",
    "net_params['K_scaling'] = scaling_factor"
   ]
  },
  {
   "cell_type": "markdown",
   "metadata": {},
   "source": [
    "### Creating the network\n",
    "\n",
    "Here the network is created using the `NeuronNumbers` and `SynapseNumbers` classes. The `NeuronNumbers` class calculates the number of neurons in the network. The `SynapseNumbers` class calculates the number of synapses in the network and the synaptic weights."
   ]
  },
  {
   "cell_type": "code",
   "execution_count": null,
   "metadata": {},
   "outputs": [],
   "source": [
    "# Create Network class\n",
    "NN = NeuronNumbers(\n",
    "    surface_area=net_params['surface_area'],\n",
    "    **net_params['cytoarchitecture_params']\n",
    ")\n",
    "\n",
    "# Create Synapse class\n",
    "SN = SynapseNumbers(\n",
    "    NN=NN,\n",
    "    **net_params['predictive_connectomic_params']\n",
    ")"
   ]
  },
  {
   "cell_type": "code",
   "execution_count": null,
   "metadata": {},
   "outputs": [],
   "source": [
    "\n",
    "# Create Network\n",
    "net = Network(NN, SN, net_params)\n",
    "\n",
    "# Export the network\n",
    "net.dump(outpath)\n",
    "\n",
    "# Get the network hash\n",
    "net_hash = net.getHash()\n",
    "\n",
    "# To access net object key, use net.net.keys()\n",
    "# Ex.: to access neuron numbers, use net.net['neuron_numbers']"
   ]
  },
  {
   "cell_type": "markdown",
   "metadata": {},
   "source": [
    "### Running the simulation"
   ]
  },
  {
   "cell_type": "code",
   "execution_count": null,
   "metadata": {},
   "outputs": [],
   "source": [
    "from default_sim_params import params as sim_params\n",
    "from network import networkDictFromDump\n",
    "from simulation import Simulation"
   ]
  },
  {
   "cell_type": "code",
   "execution_count": null,
   "metadata": {},
   "outputs": [],
   "source": [
    "# Update default parameters with parameters specified in exp\n",
    "nested_dict_update(net_params, exp.net_params)\n",
    "nested_dict_update(sim_params, exp.sim_params)"
   ]
  },
  {
   "cell_type": "code",
   "execution_count": null,
   "metadata": {},
   "outputs": [],
   "source": [
    "# Read network dict\n",
    "net_folder = os.path.join(outpath, net_hash)\n",
    "net_dict = networkDictFromDump(net_folder)"
   ]
  },
  {
   "cell_type": "code",
   "execution_count": null,
   "metadata": {},
   "outputs": [],
   "source": [
    "# Create Simulation class, export it and calculate the hash\n",
    "sim = Simulation(sim_params, net_dict)\n",
    "sim.dump(net_folder)\n",
    "sim_hash = sim.getHash()"
   ]
  },
  {
   "cell_type": "code",
   "execution_count": null,
   "metadata": {},
   "outputs": [],
   "source": [
    "# Set output directory according to hashes, instantiate the Network\n",
    "# and run the simulation\n",
    "data_path = os.path.join(outpath, net_hash, sim_hash)\n",
    "num_threads = int(4)\n",
    "sim.setup(data_path, num_threads)\n",
    "sim.simulate()"
   ]
  },
  {
   "cell_type": "markdown",
   "metadata": {},
   "source": [
    "### Analysis"
   ]
  },
  {
   "cell_type": "code",
   "execution_count": null,
   "metadata": {},
   "outputs": [],
   "source": [
    "from simulation import simulationDictFromDump\n",
    "from analysis import Analysis\n",
    "from default_ana_params import params as ana_params"
   ]
  },
  {
   "cell_type": "code",
   "execution_count": null,
   "metadata": {},
   "outputs": [],
   "source": [
    "# Update default parameters with parameters specified in exp\n",
    "nested_dict_update(net_params, exp.net_params)\n",
    "nested_dict_update(ana_params, exp.ana_params)\n",
    "\n",
    "# Read simulation dict\n",
    "sim_folder = os.path.join(outpath, net_hash, sim_hash)\n",
    "sim_dict = simulationDictFromDump(sim_folder)\n",
    "\n",
    "# Create Analysis class and export it\n",
    "ana = Analysis(ana_params, net_dict, sim_dict, sim_folder, base_path)\n",
    "ana.dump(sim_folder)\n",
    "\n",
    "# Do the analysis\n",
    "# ana.fullAnalysis()\n",
    "\n",
    "ana.popGids = ana._readPopGids()\n",
    "ana.spikes = ana._readSpikes()\n",
    "for area in net.net['area_list']:\n",
    "    ana.plotRasterArea(area)"
   ]
  }
 ],
 "metadata": {
  "kernelspec": {
   "display_name": "Python 3 (ipykernel)",
   "language": "python",
   "name": "python3"
  },
  "language_info": {
   "codemirror_mode": {
    "name": "ipython",
    "version": 3
   },
   "file_extension": ".py",
   "mimetype": "text/x-python",
   "name": "python",
   "nbconvert_exporter": "python",
   "pygments_lexer": "ipython3",
   "version": "3.9.19"
  }
 },
 "nbformat": 4,
 "nbformat_minor": 4
}
