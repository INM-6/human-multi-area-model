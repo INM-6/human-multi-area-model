{
 "cells": [
  {
   "cell_type": "code",
   "execution_count": 1,
   "metadata": {},
   "outputs": [],
   "source": [
    "import os\n",
    "import sys\n",
    "import importlib.util\n",
    "\n",
    "sys.path.append('./src/')\n",
    "\n",
    "from helpers.snakemake import nested_dict_update, get_git_revision_hash\n",
    "from default_net_params import params as net_params\n",
    "from data_preprocessing.cytoarchitecture import NeuronNumbers\n",
    "from data_preprocessing.connectivity import SynapseNumbers\n",
    "from network import Network"
   ]
  },
  {
   "cell_type": "code",
   "execution_count": 2,
   "metadata": {},
   "outputs": [],
   "source": [
    "base_path = os.getcwd()"
   ]
  },
  {
   "cell_type": "code",
   "execution_count": 3,
   "metadata": {},
   "outputs": [],
   "source": [
    "# Load script from specified path sys.argv[1] (snakemake {input})\n",
    "# Does nothing else than `import path/to/script as exp` would do\n",
    "experiment_file = './experiments/experiment_stabilized_groundstate.py'\n",
    "conf_name, _ = os.path.splitext(os.path.basename(experiment_file))\n",
    "conf_path = os.path.join(os.getcwd(), './experiments/experiment_stabilized_groundstate.py')\n",
    "spec = importlib.util.spec_from_file_location(conf_name, conf_path)\n",
    "exp = importlib.util.module_from_spec(spec)\n",
    "spec.loader.exec_module(exp)"
   ]
  },
  {
   "cell_type": "code",
   "execution_count": 4,
   "metadata": {},
   "outputs": [],
   "source": [
    "# Update default parameters with parameters specified in exp\n",
    "nested_dict_update(net_params, exp.net_params)\n",
    "outpath = net_params['outpath']\n",
    "\n",
    "net_params['N_scaling'] = 0.001\n",
    "net_params['K_scaling'] = 0.001"
   ]
  },
  {
   "cell_type": "code",
   "execution_count": 5,
   "metadata": {},
   "outputs": [
    {
     "name": "stdout",
     "output_type": "stream",
     "text": [
      "Dropping layer IV in caudalmiddlefrontal because it contains 3375 < 5000 neurons.\n",
      "Dropping layer IV in lateraloccipital because it contains 3000 < 5000 neurons.\n",
      "Dropping layer VI in parahippocampal because it contains 3200 < 5000 neurons.\n",
      "Dropping layer IV in parsorbitalis because it contains 625 < 5000 neurons.\n"
     ]
    }
   ],
   "source": [
    "# Create Network class\n",
    "NN = NeuronNumbers(\n",
    "    surface_area=net_params['surface_area'],\n",
    "    **net_params['cytoarchitecture_params']\n",
    ")"
   ]
  },
  {
   "cell_type": "code",
   "execution_count": 6,
   "metadata": {},
   "outputs": [],
   "source": [
    "# Create Synapse class\n",
    "SN = SynapseNumbers(\n",
    "    NN=NN,\n",
    "    **net_params['predictive_connectomic_params']\n",
    ")"
   ]
  },
  {
   "cell_type": "code",
   "execution_count": 7,
   "metadata": {},
   "outputs": [],
   "source": [
    "net = Network(NN, SN, net_params)"
   ]
  },
  {
   "cell_type": "code",
   "execution_count": 8,
   "metadata": {},
   "outputs": [],
   "source": [
    "# Get the network hash\n",
    "net_hash = net.getHash()"
   ]
  },
  {
   "cell_type": "code",
   "execution_count": 9,
   "metadata": {},
   "outputs": [
    {
     "data": {
      "text/plain": [
       "dict_keys(['area_list', 'layer_list', 'population_list', 'neuron_model_E', 'neuron_model_I', 'neuron_params_E', 'neuron_params_I', 'neuron_param_dist_E', 'neuron_param_dist_I', 'neuron_numbers', 'SLN', 'synapses_internal', 'synapses_external', 'weights', 'weights_ext', 'p_transmit', 'delay_e', 'delay_e_sd', 'delay_i', 'delay_i_sd', 'delay_cc', 'delay_cc_sd', 'delay_distribution', 'eta_ext', 'rate_ext', 'spike_time', 'weights_sd', 'weights_ext_sd', 'NOS', 'directionality'])"
      ]
     },
     "execution_count": 9,
     "metadata": {},
     "output_type": "execute_result"
    }
   ],
   "source": [
    "net.net.keys()"
   ]
  },
  {
   "cell_type": "code",
   "execution_count": 11,
   "metadata": {},
   "outputs": [
    {
     "data": {
      "text/plain": [
       "3468.839"
      ]
     },
     "execution_count": 11,
     "metadata": {},
     "output_type": "execute_result"
    }
   ],
   "source": [
    "net.net['neuron_numbers'].sum()"
   ]
  },
  {
   "cell_type": "code",
   "execution_count": null,
   "metadata": {},
   "outputs": [],
   "source": []
  }
 ],
 "metadata": {
  "kernelspec": {
   "display_name": "nest-granger",
   "language": "python",
   "name": "python3"
  },
  "language_info": {
   "codemirror_mode": {
    "name": "ipython",
    "version": 3
   },
   "file_extension": ".py",
   "mimetype": "text/x-python",
   "name": "python",
   "nbconvert_exporter": "python",
   "pygments_lexer": "ipython3",
   "version": "3.9.6"
  }
 },
 "nbformat": 4,
 "nbformat_minor": 2
}
