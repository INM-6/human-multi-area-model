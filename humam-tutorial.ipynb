{
 "cells": [
  {
   "cell_type": "code",
   "execution_count": null,
   "metadata": {},
   "outputs": [],
   "source": [
    "import os\n",
    "import sys\n",
    "import importlib.util\n",
    "\n",
    "sys.path.append('./src/')\n",
    "\n",
    "from helpers.snakemake import nested_dict_update, get_git_revision_hash\n",
    "from default_net_params import params as net_params\n",
    "from data_preprocessing.cytoarchitecture import NeuronNumbers\n",
    "from data_preprocessing.connectivity import SynapseNumbers\n",
    "from network import Network"
   ]
  },
  {
   "cell_type": "code",
   "execution_count": null,
   "metadata": {},
   "outputs": [],
   "source": [
    "base_path = os.getcwd()"
   ]
  },
  {
   "cell_type": "code",
   "execution_count": null,
   "metadata": {},
   "outputs": [],
   "source": [
    "# Load script from specified path sys.argv[1] (snakemake {input})\n",
    "# Does nothing else than `import path/to/script as exp` would do\n",
    "experiment_file = './experiments/experiment_stabilized_groundstate.py'\n",
    "conf_name, _ = os.path.splitext(os.path.basename(experiment_file))\n",
    "conf_path = os.path.join(os.getcwd(), './experiments/experiment_stabilized_groundstate.py')\n",
    "spec = importlib.util.spec_from_file_location(conf_name, conf_path)\n",
    "exp = importlib.util.module_from_spec(spec)\n",
    "spec.loader.exec_module(exp)"
   ]
  },
  {
   "cell_type": "code",
   "execution_count": null,
   "metadata": {},
   "outputs": [],
   "source": [
    "# Update default parameters with parameters specified in exp\n",
    "nested_dict_update(net_params, exp.net_params)\n",
    "outpath = net_params['outpath']"
   ]
  },
  {
   "cell_type": "code",
   "execution_count": null,
   "metadata": {},
   "outputs": [],
   "source": [
    "# Create Network class\n",
    "NN = NeuronNumbers(\n",
    "    surface_area=net_params['surface_area'],\n",
    "    **net_params['cytoarchitecture_params']\n",
    ")"
   ]
  },
  {
   "cell_type": "code",
   "execution_count": null,
   "metadata": {},
   "outputs": [],
   "source": [
    "# Create Synapse class\n",
    "SN = SynapseNumbers(\n",
    "    NN=NN,\n",
    "    **net_params['predictive_connectomic_params']\n",
    ")"
   ]
  },
  {
   "cell_type": "code",
   "execution_count": null,
   "metadata": {},
   "outputs": [],
   "source": [
    "net = Network(NN, SN, net_params)"
   ]
  }
 ],
 "metadata": {
  "kernelspec": {
   "display_name": "nest-granger",
   "language": "python",
   "name": "python3"
  },
  "language_info": {
   "codemirror_mode": {
    "name": "ipython",
    "version": 3
   },
   "file_extension": ".py",
   "mimetype": "text/x-python",
   "name": "python",
   "nbconvert_exporter": "python",
   "pygments_lexer": "ipython3",
   "version": "3.9.6"
  }
 },
 "nbformat": 4,
 "nbformat_minor": 2
}
