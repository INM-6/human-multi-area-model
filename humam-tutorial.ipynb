{
 "cells": [
  {
   "cell_type": "markdown",
   "metadata": {},
   "source": [
    "# Multi-Area Network Simulation and Analysis\n",
    "\n",
    "This Jupyter Notebook documents the workflow for simulating and analyzing a multi-area network model. The notebook is structured into several sections, each focusing on a specific part of the process, from setting up the environment to running simulations and performing analyses. Below is an overview of the key steps involved:\n",
    "\n",
    "1. **Setting Up the Environment**: Import necessary modules and define paths and parameters. This includes importing default network, simulation, and analysis parameters, as well as setting the base path for experiments. These steps are crucial for ensuring that the subsequent steps in the workflow have access to the required configurations and data.\n",
    "\n",
    "2. **Creating the Network**: Utilize the `NeuronNumbers` and `SynapseNumbers` classes to calculate the number of neurons and synapses in the network. The network is then created using these calculations and exported for further use.\n",
    "\n",
    "3. **Running the Simulation**: Set up and run the simulation using the defined network and simulation parameters. The simulation results are exported and can be used for analysis.\n",
    "\n",
    "4. **Analysis**: Perform various analyses on the simulation results, including plotting raster plots and calculating mean firing rates. The analysis results are exported for further inspection."
   ]
  },
  {
   "cell_type": "code",
   "execution_count": 1,
   "metadata": {},
   "outputs": [],
   "source": [
    "import os\n",
    "import sys\n",
    "import importlib.util\n",
    "\n",
    "sys.path.append('./src/')\n",
    "\n",
    "from helpers.snakemake import nested_dict_update, get_git_revision_hash\n",
    "from default_net_params import params as net_params\n",
    "from data_preprocessing.cytoarchitecture import NeuronNumbers\n",
    "from data_preprocessing.connectivity import SynapseNumbers\n",
    "from network import Network"
   ]
  },
  {
   "cell_type": "code",
   "execution_count": 2,
   "metadata": {},
   "outputs": [
    {
     "name": "stdout",
     "output_type": "stream",
     "text": [
      "[INFO] [2024.10.15 22:7:54 /home/conda/feedstock_root/build_artifacts/nest-simulator_1636957195130/work/nestkernel/rng_manager.cpp:217 @ Network::create_rngs_] : Creating default RNGs\n",
      "[INFO] [2024.10.15 22:7:54 /home/conda/feedstock_root/build_artifacts/nest-simulator_1636957195130/work/nestkernel/rng_manager.cpp:260 @ Network::create_grng_] : Creating new default global RNG\n",
      "\n",
      "              -- N E S T --\n",
      "  Copyright (C) 2004 The NEST Initiative\n",
      "\n",
      " Version: nest-2.20.2\n",
      " Built: Nov 15 2021 06:23:02\n",
      "\n",
      " This program is provided AS IS and comes with\n",
      " NO WARRANTY. See the file LICENSE for details.\n",
      "\n",
      " Problems or suggestions?\n",
      "   Visit https://www.nest-simulator.org\n",
      "\n",
      " Type 'nest.help()' to find out more about NEST.\n",
      "\n"
     ]
    }
   ],
   "source": [
    "# Import the default simulation parameters\n",
    "from default_sim_params import params as sim_params\n",
    "from network import networkDictFromDump\n",
    "from simulation import Simulation"
   ]
  },
  {
   "cell_type": "code",
   "execution_count": 3,
   "metadata": {},
   "outputs": [],
   "source": [
    "# Import the default analysis parameters\n",
    "from simulation import simulationDictFromDump\n",
    "from analysis import Analysis\n",
    "from default_ana_params import params as ana_params"
   ]
  },
  {
   "cell_type": "code",
   "execution_count": 4,
   "metadata": {},
   "outputs": [],
   "source": [
    "# Set base path\n",
    "base_path = os.getcwd()\n",
    "experiments_path = os.path.join(base_path, 'experiments')"
   ]
  },
  {
   "cell_type": "markdown",
   "metadata": {},
   "source": [
    "### Setting Up the Environment\n",
    "\n",
    "In this section, we set up the environment by importing necessary modules and defining paths and parameters. This includes importing default network, simulation, and analysis parameters, as well as setting the base path for experiments. These steps are crucial for ensuring that the subsequent steps in the workflow have access to the required configurations and data."
   ]
  },
  {
   "cell_type": "code",
   "execution_count": 5,
   "metadata": {},
   "outputs": [],
   "source": [
    "# Set default parameters\n",
    "outpath = net_params['outpath']\n",
    "\n",
    "# Set simulation parameters\n",
    "sim_params['t_sim'] = 2000.0\n",
    "sim_params['master_seed'] = 2903\n",
    "\n",
    "# Set plotting parameters\n",
    "ana_params['plotRasterArea']['low'] = 1600\n",
    "ana_params['plotRasterArea']['high'] = 2000\n",
    "ana_params['plotRasterArea']['fraction'] = 0.5\n",
    "\n",
    "# Set scaling parameters\n",
    "scaling_factor = 0.005\n",
    "net_params['N_scaling'] = scaling_factor\n",
    "net_params['K_scaling'] = scaling_factor\n",
    "\n",
    "# Mean fullscale firing rate\n",
    "net_params['fullscale_rates'] = './simulated_data/base_theory_rates.pkl'"
   ]
  },
  {
   "cell_type": "markdown",
   "metadata": {},
   "source": [
    "### Creating the network\n",
    "\n",
    "Here the network is created using the `NeuronNumbers` and `SynapseNumbers` classes. The `NeuronNumbers` class calculates the number of neurons in the network. The `SynapseNumbers` class calculates the number of synapses in the network and the synaptic weights."
   ]
  },
  {
   "cell_type": "code",
   "execution_count": 6,
   "metadata": {},
   "outputs": [
    {
     "name": "stdout",
     "output_type": "stream",
     "text": [
      "Dropping layer IV in caudalmiddlefrontal because it contains 3375 < 5000 neurons.\n",
      "Dropping layer IV in lateraloccipital because it contains 3000 < 5000 neurons.\n",
      "Dropping layer VI in parahippocampal because it contains 3200 < 5000 neurons.\n",
      "Dropping layer IV in parsorbitalis because it contains 625 < 5000 neurons.\n"
     ]
    },
    {
     "name": "stderr",
     "output_type": "stream",
     "text": [
      "/home/shimoura/Github/humam-add-downscaling-factor/./src/data_preprocessing/cytoarchitecture.py:150: FutureWarning:iteritems is deprecated and will be removed in a future version. Use .items instead.\n"
     ]
    }
   ],
   "source": [
    "# Create Network class\n",
    "NN = NeuronNumbers(\n",
    "    surface_area=net_params['surface_area'],\n",
    "    **net_params['cytoarchitecture_params']\n",
    ")"
   ]
  },
  {
   "cell_type": "code",
   "execution_count": 7,
   "metadata": {},
   "outputs": [],
   "source": [
    "# Create Synapse class\n",
    "SN = SynapseNumbers(\n",
    "    NN=NN,\n",
    "    **net_params['predictive_connectomic_params']\n",
    ")"
   ]
  },
  {
   "cell_type": "code",
   "execution_count": 8,
   "metadata": {},
   "outputs": [],
   "source": [
    "# Create Network\n",
    "net = Network(NN, SN, net_params)\n",
    "\n",
    "# Export the network\n",
    "net.dump(outpath)\n",
    "\n",
    "# Get the network hash\n",
    "net_hash = net.getHash()\n",
    "\n",
    "# To access net object key, use net.net.keys()\n",
    "# Ex.: to access neuron numbers, use net.net['neuron_numbers']"
   ]
  },
  {
   "cell_type": "markdown",
   "metadata": {},
   "source": [
    "### Running the simulation"
   ]
  },
  {
   "cell_type": "code",
   "execution_count": 9,
   "metadata": {},
   "outputs": [
    {
     "name": "stderr",
     "output_type": "stream",
     "text": [
      "/home/shimoura/Github/humam-add-downscaling-factor/./src/network.py:892: YAMLLoadWarning:calling yaml.load() without Loader=... is deprecated, as the default Loader is unsafe. Please read https://msg.pyyaml.org/load for full details.\n",
      "/home/shimoura/Github/humam-add-downscaling-factor/./src/network.py:897: YAMLLoadWarning:calling yaml.load() without Loader=... is deprecated, as the default Loader is unsafe. Please read https://msg.pyyaml.org/load for full details.\n",
      "/home/shimoura/Github/humam-add-downscaling-factor/./src/network.py:902: YAMLLoadWarning:calling yaml.load() without Loader=... is deprecated, as the default Loader is unsafe. Please read https://msg.pyyaml.org/load for full details.\n",
      "/home/shimoura/Github/humam-add-downscaling-factor/./src/network.py:907: YAMLLoadWarning:calling yaml.load() without Loader=... is deprecated, as the default Loader is unsafe. Please read https://msg.pyyaml.org/load for full details.\n"
     ]
    }
   ],
   "source": [
    "# Read network dict\n",
    "net_folder = os.path.join(outpath, net_hash)\n",
    "net_dict = networkDictFromDump(net_folder)"
   ]
  },
  {
   "cell_type": "code",
   "execution_count": 10,
   "metadata": {},
   "outputs": [],
   "source": [
    "# Create Simulation class, export it and calculate the hash\n",
    "sim = Simulation(sim_params, net_dict)\n",
    "sim.dump(net_folder)\n",
    "sim_hash = sim.getHash()"
   ]
  },
  {
   "cell_type": "code",
   "execution_count": 11,
   "metadata": {},
   "outputs": [
    {
     "data": {
      "text/plain": [
       "17350"
      ]
     },
     "execution_count": 11,
     "metadata": {},
     "output_type": "execute_result"
    }
   ],
   "source": [
    "net.net['neuron_numbers'].sum()"
   ]
  },
  {
   "cell_type": "code",
   "execution_count": 12,
   "metadata": {},
   "outputs": [
    {
     "name": "stderr",
     "output_type": "stream",
     "text": [
      "/home/shimoura/Github/humam-add-downscaling-factor/./src/simulation.py:125: FutureWarning:iteritems is deprecated and will be removed in a future version. Use .items instead.\n",
      "/home/shimoura/miniconda3/envs/humam_nest2.20.2/lib64/python3.9/site-packages/nest/lib/hl_api_helper.py:127: UserWarning:\n",
      "GetNodes is deprecated and will be removed in NEST 3.0. Use             GIDCollection instead.\n"
     ]
    },
    {
     "name": "stdout",
     "output_type": "stream",
     "text": [
      "data directory already exists\n",
      "Data will be written to /home/shimoura/Github/humam-add-downscaling-factor/out/5c92d51068c956a81d67d16610aa9dcc/e6f6894f7ce545b48d43876532c39947\n",
      "Master seed: 2903 \n",
      "\n",
      "Oct 15 22:09:27 ModelManager::clear_models_ [Info]: \n",
      "    Models will be cleared and parameters reset.\n",
      "\n",
      "Oct 15 22:09:27 Network::create_rngs_ [Info]: \n",
      "    Deleting existing random number generators\n",
      "\n",
      "Oct 15 22:09:27 Network::create_rngs_ [Info]: \n",
      "    Creating default RNGs\n",
      "\n",
      "Oct 15 22:09:27 Network::create_grng_ [Info]: \n",
      "    Creating new default global RNG\n",
      "\n",
      "Oct 15 22:09:27 ModelManager::clear_models_ [Info]: \n",
      "    Models will be cleared and parameters reset.\n",
      "\n",
      "Oct 15 22:09:27 Network::create_rngs_ [Info]: \n",
      "    Deleting existing random number generators\n",
      "\n",
      "Oct 15 22:09:27 Network::create_rngs_ [Info]: \n",
      "    Creating default RNGs\n",
      "\n",
      "Oct 15 22:09:27 Network::create_grng_ [Info]: \n",
      "    Creating new default global RNG\n",
      "Number of total processes: 8\n",
      "Seeds for random number generators of virtual processes: [2912, 2913, 2914, 2915, 2916, 2917, 2918, 2919]\n",
      "Global random number generator seed: 2911\n",
      "Memory on rank 0 before creating populations: 5412.87MB\n",
      "\n",
      "Oct 15 22:09:27 SimulationManager::set_status [Info]: \n",
      "    Temporal resolution changed.\n",
      "\n",
      "Oct 15 22:09:27 SLIInterpreter [Deprecated]: \n",
      "    SLI function GetNodes_i_D_b_b is deprecated in NEST 3.0.\n",
      "Memory on rank 0 after creating populations: 5454.89MB\n",
      "Spike detectors created\n",
      "Poisson background input created\n",
      "Single spike input created\n",
      "Connections are established\n",
      "Connected all of area bankssts, layer II/III and population E on rank 0. Memory: 5464.25 MB.\n",
      "Connected all of area bankssts, layer II/III and population I on rank 0. Memory: 5464.25 MB.\n",
      "Connected all of area bankssts, layer IV and population E on rank 0. Memory: 5464.25 MB.\n",
      "Connected all of area bankssts, layer IV and population I on rank 0. Memory: 5464.25 MB.\n",
      "Connected all of area bankssts, layer V and population E on rank 0. Memory: 5464.25 MB.\n",
      "Connected all of area bankssts, layer V and population I on rank 0. Memory: 5464.25 MB.\n",
      "Connected all of area bankssts, layer VI and population E on rank 0. Memory: 5464.25 MB.\n"
     ]
    },
    {
     "name": "stderr",
     "output_type": "stream",
     "text": [
      "/home/shimoura/Github/humam-add-downscaling-factor/./src/simulation.py:249: FutureWarning:iteritems is deprecated and will be removed in a future version. Use .items instead.\n",
      "/home/shimoura/Github/humam-add-downscaling-factor/./src/simulation.py:265: FutureWarning:iteritems is deprecated and will be removed in a future version. Use .items instead.\n"
     ]
    },
    {
     "name": "stdout",
     "output_type": "stream",
     "text": [
      "Connected all of area bankssts, layer VI and population I on rank 0. Memory: 5464.25 MB.\n",
      "Connected all of area caudalanteriorcingulate, layer II/III and population E on rank 0. Memory: 5464.25 MB.\n",
      "Connected all of area caudalanteriorcingulate, layer II/III and population I on rank 0. Memory: 5464.25 MB.\n",
      "Connected all of area caudalanteriorcingulate, layer V and population E on rank 0. Memory: 5464.25 MB.\n",
      "Connected all of area caudalanteriorcingulate, layer V and population I on rank 0. Memory: 5464.25 MB.\n",
      "Connected all of area caudalanteriorcingulate, layer VI and population E on rank 0. Memory: 5464.25 MB.\n",
      "Connected all of area caudalanteriorcingulate, layer VI and population I on rank 0. Memory: 5464.25 MB.\n",
      "Connected all of area caudalmiddlefrontal, layer II/III and population E on rank 0. Memory: 5464.25 MB.\n",
      "Connected all of area caudalmiddlefrontal, layer II/III and population I on rank 0. Memory: 5464.25 MB.\n",
      "Connected all of area caudalmiddlefrontal, layer V and population E on rank 0. Memory: 5464.25 MB.\n",
      "Connected all of area caudalmiddlefrontal, layer V and population I on rank 0. Memory: 5464.25 MB.\n",
      "Connected all of area caudalmiddlefrontal, layer VI and population E on rank 0. Memory: 5464.25 MB.\n",
      "Connected all of area caudalmiddlefrontal, layer VI and population I on rank 0. Memory: 5464.25 MB.\n",
      "Connected all of area cuneus, layer II/III and population E on rank 0. Memory: 5464.25 MB.\n",
      "Connected all of area cuneus, layer II/III and population I on rank 0. Memory: 5464.25 MB.\n",
      "Connected all of area cuneus, layer IV and population E on rank 0. Memory: 5464.25 MB.\n",
      "Connected all of area cuneus, layer IV and population I on rank 0. Memory: 5464.25 MB.\n",
      "Connected all of area cuneus, layer V and population E on rank 0. Memory: 5464.25 MB.\n",
      "Connected all of area cuneus, layer V and population I on rank 0. Memory: 5464.25 MB.\n",
      "Connected all of area cuneus, layer VI and population E on rank 0. Memory: 5464.25 MB.\n",
      "Connected all of area cuneus, layer VI and population I on rank 0. Memory: 5464.25 MB.\n",
      "Connected all of area entorhinal, layer II/III and population E on rank 0. Memory: 5464.25 MB.\n",
      "Connected all of area entorhinal, layer II/III and population I on rank 0. Memory: 5464.25 MB.\n",
      "Connected all of area entorhinal, layer V and population E on rank 0. Memory: 5464.25 MB.\n",
      "Connected all of area entorhinal, layer V and population I on rank 0. Memory: 5464.25 MB.\n",
      "Connected all of area entorhinal, layer VI and population E on rank 0. Memory: 5464.25 MB.\n",
      "Connected all of area entorhinal, layer VI and population I on rank 0. Memory: 5464.25 MB.\n",
      "Connected all of area frontalpole, layer II/III and population E on rank 0. Memory: 5464.25 MB.\n",
      "Connected all of area frontalpole, layer II/III and population I on rank 0. Memory: 5464.25 MB.\n",
      "Connected all of area frontalpole, layer IV and population E on rank 0. Memory: 5464.25 MB.\n",
      "Connected all of area frontalpole, layer IV and population I on rank 0. Memory: 5464.25 MB.\n",
      "Connected all of area frontalpole, layer V and population E on rank 0. Memory: 5464.25 MB.\n",
      "Connected all of area frontalpole, layer V and population I on rank 0. Memory: 5464.25 MB.\n",
      "Connected all of area frontalpole, layer VI and population E on rank 0. Memory: 5464.25 MB.\n",
      "Connected all of area frontalpole, layer VI and population I on rank 0. Memory: 5464.25 MB.\n",
      "Connected all of area fusiform, layer II/III and population E on rank 0. Memory: 5464.25 MB.\n",
      "Connected all of area fusiform, layer II/III and population I on rank 0. Memory: 5464.25 MB.\n",
      "Connected all of area fusiform, layer IV and population E on rank 0. Memory: 5464.25 MB.\n",
      "Connected all of area fusiform, layer IV and population I on rank 0. Memory: 5464.25 MB.\n",
      "Connected all of area fusiform, layer V and population E on rank 0. Memory: 5464.25 MB.\n",
      "Connected all of area fusiform, layer V and population I on rank 0. Memory: 5464.25 MB.\n",
      "Connected all of area fusiform, layer VI and population E on rank 0. Memory: 5464.25 MB.\n",
      "Connected all of area fusiform, layer VI and population I on rank 0. Memory: 5464.25 MB.\n",
      "Connected all of area inferiorparietal, layer II/III and population E on rank 0. Memory: 5464.25 MB.\n",
      "Connected all of area inferiorparietal, layer II/III and population I on rank 0. Memory: 5464.25 MB.\n",
      "Connected all of area inferiorparietal, layer IV and population E on rank 0. Memory: 5464.25 MB.\n",
      "Connected all of area inferiorparietal, layer IV and population I on rank 0. Memory: 5464.25 MB.\n",
      "Connected all of area inferiorparietal, layer V and population E on rank 0. Memory: 5464.25 MB.\n",
      "Connected all of area inferiorparietal, layer V and population I on rank 0. Memory: 5464.25 MB.\n",
      "Connected all of area inferiorparietal, layer VI and population E on rank 0. Memory: 5464.25 MB.\n",
      "Connected all of area inferiorparietal, layer VI and population I on rank 0. Memory: 5464.25 MB.\n",
      "Connected all of area inferiortemporal, layer II/III and population E on rank 0. Memory: 5464.25 MB.\n",
      "Connected all of area inferiortemporal, layer II/III and population I on rank 0. Memory: 5464.25 MB.\n",
      "Connected all of area inferiortemporal, layer IV and population E on rank 0. Memory: 5464.25 MB.\n",
      "Connected all of area inferiortemporal, layer IV and population I on rank 0. Memory: 5464.25 MB.\n",
      "Connected all of area inferiortemporal, layer V and population E on rank 0. Memory: 5464.25 MB.\n",
      "Connected all of area inferiortemporal, layer V and population I on rank 0. Memory: 5464.25 MB.\n",
      "Connected all of area inferiortemporal, layer VI and population E on rank 0. Memory: 5464.25 MB.\n",
      "Connected all of area inferiortemporal, layer VI and population I on rank 0. Memory: 5464.25 MB.\n",
      "Connected all of area insula, layer II/III and population E on rank 0. Memory: 5464.25 MB.\n",
      "Connected all of area insula, layer II/III and population I on rank 0. Memory: 5464.25 MB.\n",
      "Connected all of area insula, layer IV and population E on rank 0. Memory: 5464.25 MB.\n",
      "Connected all of area insula, layer IV and population I on rank 0. Memory: 5464.25 MB.\n",
      "Connected all of area insula, layer V and population E on rank 0. Memory: 5464.25 MB.\n",
      "Connected all of area insula, layer V and population I on rank 0. Memory: 5464.25 MB.\n",
      "Connected all of area insula, layer VI and population E on rank 0. Memory: 5464.25 MB.\n",
      "Connected all of area insula, layer VI and population I on rank 0. Memory: 5464.25 MB.\n",
      "Connected all of area isthmuscingulate, layer II/III and population E on rank 0. Memory: 5464.25 MB.\n",
      "Connected all of area isthmuscingulate, layer II/III and population I on rank 0. Memory: 5464.25 MB.\n",
      "Connected all of area isthmuscingulate, layer IV and population E on rank 0. Memory: 5464.25 MB.\n",
      "Connected all of area isthmuscingulate, layer IV and population I on rank 0. Memory: 5464.25 MB.\n",
      "Connected all of area isthmuscingulate, layer V and population E on rank 0. Memory: 5464.25 MB.\n",
      "Connected all of area isthmuscingulate, layer V and population I on rank 0. Memory: 5464.25 MB.\n",
      "Connected all of area isthmuscingulate, layer VI and population E on rank 0. Memory: 5464.25 MB.\n",
      "Connected all of area isthmuscingulate, layer VI and population I on rank 0. Memory: 5464.25 MB.\n",
      "Connected all of area lateraloccipital, layer II/III and population E on rank 0. Memory: 5464.25 MB.\n",
      "Connected all of area lateraloccipital, layer II/III and population I on rank 0. Memory: 5464.25 MB.\n",
      "Connected all of area lateraloccipital, layer V and population E on rank 0. Memory: 5464.25 MB.\n",
      "Connected all of area lateraloccipital, layer V and population I on rank 0. Memory: 5464.25 MB.\n",
      "Connected all of area lateraloccipital, layer VI and population E on rank 0. Memory: 5464.25 MB.\n",
      "Connected all of area lateraloccipital, layer VI and population I on rank 0. Memory: 5464.25 MB.\n",
      "Connected all of area lateralorbitofrontal, layer II/III and population E on rank 0. Memory: 5464.25 MB.\n",
      "Connected all of area lateralorbitofrontal, layer II/III and population I on rank 0. Memory: 5464.25 MB.\n",
      "Connected all of area lateralorbitofrontal, layer IV and population E on rank 0. Memory: 5464.25 MB.\n",
      "Connected all of area lateralorbitofrontal, layer IV and population I on rank 0. Memory: 5464.25 MB.\n",
      "Connected all of area lateralorbitofrontal, layer V and population E on rank 0. Memory: 5464.25 MB.\n",
      "Connected all of area lateralorbitofrontal, layer V and population I on rank 0. Memory: 5464.25 MB.\n",
      "Connected all of area lateralorbitofrontal, layer VI and population E on rank 0. Memory: 5464.25 MB.\n",
      "Connected all of area lateralorbitofrontal, layer VI and population I on rank 0. Memory: 5464.25 MB.\n",
      "Connected all of area lingual, layer II/III and population E on rank 0. Memory: 5464.25 MB.\n",
      "Connected all of area lingual, layer II/III and population I on rank 0. Memory: 5464.25 MB.\n",
      "Connected all of area lingual, layer IV and population E on rank 0. Memory: 5464.25 MB.\n",
      "Connected all of area lingual, layer IV and population I on rank 0. Memory: 5464.25 MB.\n",
      "Connected all of area lingual, layer V and population E on rank 0. Memory: 5464.25 MB.\n",
      "Connected all of area lingual, layer V and population I on rank 0. Memory: 5464.25 MB.\n",
      "Connected all of area lingual, layer VI and population E on rank 0. Memory: 5464.25 MB.\n",
      "Connected all of area lingual, layer VI and population I on rank 0. Memory: 5464.25 MB.\n",
      "Connected all of area medialorbitofrontal, layer II/III and population E on rank 0. Memory: 5464.25 MB.\n",
      "Connected all of area medialorbitofrontal, layer II/III and population I on rank 0. Memory: 5464.25 MB.\n",
      "Connected all of area medialorbitofrontal, layer IV and population E on rank 0. Memory: 5464.25 MB.\n",
      "Connected all of area medialorbitofrontal, layer IV and population I on rank 0. Memory: 5464.25 MB.\n",
      "Connected all of area medialorbitofrontal, layer V and population E on rank 0. Memory: 5464.25 MB.\n",
      "Connected all of area medialorbitofrontal, layer V and population I on rank 0. Memory: 5464.25 MB.\n",
      "Connected all of area medialorbitofrontal, layer VI and population E on rank 0. Memory: 5464.25 MB.\n",
      "Connected all of area medialorbitofrontal, layer VI and population I on rank 0. Memory: 5464.25 MB.\n",
      "Connected all of area middletemporal, layer II/III and population E on rank 0. Memory: 5464.25 MB.\n",
      "Connected all of area middletemporal, layer II/III and population I on rank 0. Memory: 5464.25 MB.\n",
      "Connected all of area middletemporal, layer IV and population E on rank 0. Memory: 5464.25 MB.\n",
      "Connected all of area middletemporal, layer IV and population I on rank 0. Memory: 5464.25 MB.\n",
      "Connected all of area middletemporal, layer V and population E on rank 0. Memory: 5464.25 MB.\n",
      "Connected all of area middletemporal, layer V and population I on rank 0. Memory: 5464.25 MB.\n",
      "Connected all of area middletemporal, layer VI and population E on rank 0. Memory: 5464.25 MB.\n",
      "Connected all of area middletemporal, layer VI and population I on rank 0. Memory: 5464.25 MB.\n",
      "Connected all of area paracentral, layer II/III and population E on rank 0. Memory: 5464.25 MB.\n",
      "Connected all of area paracentral, layer II/III and population I on rank 0. Memory: 5464.25 MB.\n",
      "Connected all of area paracentral, layer IV and population E on rank 0. Memory: 5464.25 MB.\n",
      "Connected all of area paracentral, layer IV and population I on rank 0. Memory: 5464.25 MB.\n",
      "Connected all of area paracentral, layer V and population E on rank 0. Memory: 5464.25 MB.\n",
      "Connected all of area paracentral, layer V and population I on rank 0. Memory: 5464.25 MB.\n",
      "Connected all of area paracentral, layer VI and population E on rank 0. Memory: 5464.25 MB.\n",
      "Connected all of area paracentral, layer VI and population I on rank 0. Memory: 5464.25 MB.\n",
      "Connected all of area parahippocampal, layer II/III and population E on rank 0. Memory: 5464.25 MB.\n",
      "Connected all of area parahippocampal, layer II/III and population I on rank 0. Memory: 5464.25 MB.\n",
      "Connected all of area parahippocampal, layer V and population E on rank 0. Memory: 5464.25 MB.\n",
      "Connected all of area parahippocampal, layer V and population I on rank 0. Memory: 5464.25 MB.\n",
      "Connected all of area parsopercularis, layer II/III and population E on rank 0. Memory: 5464.25 MB.\n",
      "Connected all of area parsopercularis, layer II/III and population I on rank 0. Memory: 5464.25 MB.\n",
      "Connected all of area parsopercularis, layer IV and population E on rank 0. Memory: 5464.25 MB.\n",
      "Connected all of area parsopercularis, layer IV and population I on rank 0. Memory: 5464.25 MB.\n",
      "Connected all of area parsopercularis, layer V and population E on rank 0. Memory: 5464.25 MB.\n",
      "Connected all of area parsopercularis, layer V and population I on rank 0. Memory: 5464.25 MB.\n",
      "Connected all of area parsopercularis, layer VI and population E on rank 0. Memory: 5464.25 MB.\n",
      "Connected all of area parsopercularis, layer VI and population I on rank 0. Memory: 5464.25 MB.\n",
      "Connected all of area parsorbitalis, layer II/III and population E on rank 0. Memory: 5464.25 MB.\n",
      "Connected all of area parsorbitalis, layer II/III and population I on rank 0. Memory: 5464.25 MB.\n",
      "Connected all of area parsorbitalis, layer V and population E on rank 0. Memory: 5464.25 MB.\n",
      "Connected all of area parsorbitalis, layer V and population I on rank 0. Memory: 5464.25 MB.\n",
      "Connected all of area parsorbitalis, layer VI and population E on rank 0. Memory: 5464.25 MB.\n",
      "Connected all of area parsorbitalis, layer VI and population I on rank 0. Memory: 5464.25 MB.\n",
      "Connected all of area parstriangularis, layer II/III and population E on rank 0. Memory: 5464.25 MB.\n",
      "Connected all of area parstriangularis, layer II/III and population I on rank 0. Memory: 5464.25 MB.\n",
      "Connected all of area parstriangularis, layer IV and population E on rank 0. Memory: 5464.25 MB.\n",
      "Connected all of area parstriangularis, layer IV and population I on rank 0. Memory: 5464.25 MB.\n",
      "Connected all of area parstriangularis, layer V and population E on rank 0. Memory: 5464.25 MB.\n",
      "Connected all of area parstriangularis, layer V and population I on rank 0. Memory: 5464.25 MB.\n",
      "Connected all of area parstriangularis, layer VI and population E on rank 0. Memory: 5464.25 MB.\n",
      "Connected all of area parstriangularis, layer VI and population I on rank 0. Memory: 5464.25 MB.\n",
      "Connected all of area pericalcarine, layer II/III and population E on rank 0. Memory: 5464.25 MB.\n",
      "Connected all of area pericalcarine, layer II/III and population I on rank 0. Memory: 5464.25 MB.\n",
      "Connected all of area pericalcarine, layer IV and population E on rank 0. Memory: 5464.25 MB.\n",
      "Connected all of area pericalcarine, layer IV and population I on rank 0. Memory: 5464.25 MB.\n",
      "Connected all of area pericalcarine, layer V and population E on rank 0. Memory: 5464.25 MB.\n",
      "Connected all of area pericalcarine, layer V and population I on rank 0. Memory: 5464.25 MB.\n",
      "Connected all of area pericalcarine, layer VI and population E on rank 0. Memory: 5464.25 MB.\n",
      "Connected all of area pericalcarine, layer VI and population I on rank 0. Memory: 5464.25 MB.\n",
      "Connected all of area postcentral, layer II/III and population E on rank 0. Memory: 5464.25 MB.\n",
      "Connected all of area postcentral, layer II/III and population I on rank 0. Memory: 5464.25 MB.\n",
      "Connected all of area postcentral, layer IV and population E on rank 0. Memory: 5464.25 MB.\n",
      "Connected all of area postcentral, layer IV and population I on rank 0. Memory: 5464.25 MB.\n",
      "Connected all of area postcentral, layer V and population E on rank 0. Memory: 5464.25 MB.\n",
      "Connected all of area postcentral, layer V and population I on rank 0. Memory: 5464.25 MB.\n",
      "Connected all of area postcentral, layer VI and population E on rank 0. Memory: 5464.25 MB.\n",
      "Connected all of area postcentral, layer VI and population I on rank 0. Memory: 5464.25 MB.\n",
      "Connected all of area posteriorcingulate, layer II/III and population E on rank 0. Memory: 5464.25 MB.\n",
      "Connected all of area posteriorcingulate, layer II/III and population I on rank 0. Memory: 5464.25 MB.\n",
      "Connected all of area posteriorcingulate, layer IV and population E on rank 0. Memory: 5464.25 MB.\n",
      "Connected all of area posteriorcingulate, layer IV and population I on rank 0. Memory: 5464.25 MB.\n",
      "Connected all of area posteriorcingulate, layer V and population E on rank 0. Memory: 5464.25 MB.\n",
      "Connected all of area posteriorcingulate, layer V and population I on rank 0. Memory: 5464.25 MB.\n",
      "Connected all of area posteriorcingulate, layer VI and population E on rank 0. Memory: 5464.25 MB.\n",
      "Connected all of area posteriorcingulate, layer VI and population I on rank 0. Memory: 5464.25 MB.\n",
      "Connected all of area precentral, layer II/III and population E on rank 0. Memory: 5464.25 MB.\n",
      "Connected all of area precentral, layer II/III and population I on rank 0. Memory: 5464.25 MB.\n",
      "Connected all of area precentral, layer V and population E on rank 0. Memory: 5464.25 MB.\n",
      "Connected all of area precentral, layer V and population I on rank 0. Memory: 5464.25 MB.\n",
      "Connected all of area precentral, layer VI and population E on rank 0. Memory: 5464.25 MB.\n",
      "Connected all of area precentral, layer VI and population I on rank 0. Memory: 5464.25 MB.\n",
      "Connected all of area precuneus, layer II/III and population E on rank 0. Memory: 5464.25 MB.\n",
      "Connected all of area precuneus, layer II/III and population I on rank 0. Memory: 5464.25 MB.\n",
      "Connected all of area precuneus, layer IV and population E on rank 0. Memory: 5464.25 MB.\n",
      "Connected all of area precuneus, layer IV and population I on rank 0. Memory: 5464.25 MB.\n",
      "Connected all of area precuneus, layer V and population E on rank 0. Memory: 5464.25 MB.\n",
      "Connected all of area precuneus, layer V and population I on rank 0. Memory: 5464.25 MB.\n",
      "Connected all of area precuneus, layer VI and population E on rank 0. Memory: 5464.25 MB.\n",
      "Connected all of area precuneus, layer VI and population I on rank 0. Memory: 5464.25 MB.\n",
      "Connected all of area rostralanteriorcingulate, layer II/III and population E on rank 0. Memory: 5464.25 MB.\n",
      "Connected all of area rostralanteriorcingulate, layer II/III and population I on rank 0. Memory: 5464.25 MB.\n",
      "Connected all of area rostralanteriorcingulate, layer V and population E on rank 0. Memory: 5464.25 MB.\n",
      "Connected all of area rostralanteriorcingulate, layer V and population I on rank 0. Memory: 5464.25 MB.\n",
      "Connected all of area rostralanteriorcingulate, layer VI and population E on rank 0. Memory: 5464.25 MB.\n",
      "Connected all of area rostralanteriorcingulate, layer VI and population I on rank 0. Memory: 5464.25 MB.\n",
      "Connected all of area rostralmiddlefrontal, layer II/III and population E on rank 0. Memory: 5464.25 MB.\n",
      "Connected all of area rostralmiddlefrontal, layer II/III and population I on rank 0. Memory: 5464.25 MB.\n",
      "Connected all of area rostralmiddlefrontal, layer IV and population E on rank 0. Memory: 5464.25 MB.\n",
      "Connected all of area rostralmiddlefrontal, layer IV and population I on rank 0. Memory: 5464.25 MB.\n",
      "Connected all of area rostralmiddlefrontal, layer V and population E on rank 0. Memory: 5464.25 MB.\n",
      "Connected all of area rostralmiddlefrontal, layer V and population I on rank 0. Memory: 5464.25 MB.\n",
      "Connected all of area rostralmiddlefrontal, layer VI and population E on rank 0. Memory: 5464.25 MB.\n",
      "Connected all of area rostralmiddlefrontal, layer VI and population I on rank 0. Memory: 5464.25 MB.\n",
      "Connected all of area superiorfrontal, layer II/III and population E on rank 0. Memory: 5464.25 MB.\n",
      "Connected all of area superiorfrontal, layer II/III and population I on rank 0. Memory: 5464.25 MB.\n",
      "Connected all of area superiorfrontal, layer IV and population E on rank 0. Memory: 5464.25 MB.\n",
      "Connected all of area superiorfrontal, layer IV and population I on rank 0. Memory: 5464.25 MB.\n",
      "Connected all of area superiorfrontal, layer V and population E on rank 0. Memory: 5464.25 MB.\n",
      "Connected all of area superiorfrontal, layer V and population I on rank 0. Memory: 5464.25 MB.\n",
      "Connected all of area superiorfrontal, layer VI and population E on rank 0. Memory: 5464.25 MB.\n",
      "Connected all of area superiorfrontal, layer VI and population I on rank 0. Memory: 5464.25 MB.\n",
      "Connected all of area superiorparietal, layer II/III and population E on rank 0. Memory: 5464.25 MB.\n",
      "Connected all of area superiorparietal, layer II/III and population I on rank 0. Memory: 5464.25 MB.\n",
      "Connected all of area superiorparietal, layer IV and population E on rank 0. Memory: 5464.25 MB.\n",
      "Connected all of area superiorparietal, layer IV and population I on rank 0. Memory: 5464.25 MB.\n",
      "Connected all of area superiorparietal, layer V and population E on rank 0. Memory: 5464.25 MB.\n",
      "Connected all of area superiorparietal, layer V and population I on rank 0. Memory: 5464.25 MB.\n",
      "Connected all of area superiorparietal, layer VI and population E on rank 0. Memory: 5464.25 MB.\n",
      "Connected all of area superiorparietal, layer VI and population I on rank 0. Memory: 5464.25 MB.\n",
      "Connected all of area superiortemporal, layer II/III and population E on rank 0. Memory: 5464.25 MB.\n",
      "Connected all of area superiortemporal, layer II/III and population I on rank 0. Memory: 5464.25 MB.\n",
      "Connected all of area superiortemporal, layer IV and population E on rank 0. Memory: 5464.25 MB.\n",
      "Connected all of area superiortemporal, layer IV and population I on rank 0. Memory: 5464.25 MB.\n",
      "Connected all of area superiortemporal, layer V and population E on rank 0. Memory: 5464.25 MB.\n",
      "Connected all of area superiortemporal, layer V and population I on rank 0. Memory: 5464.25 MB.\n",
      "Connected all of area superiortemporal, layer VI and population E on rank 0. Memory: 5464.25 MB.\n",
      "Connected all of area superiortemporal, layer VI and population I on rank 0. Memory: 5464.25 MB.\n",
      "Connected all of area supramarginal, layer II/III and population E on rank 0. Memory: 5464.25 MB.\n",
      "Connected all of area supramarginal, layer II/III and population I on rank 0. Memory: 5464.25 MB.\n",
      "Connected all of area supramarginal, layer IV and population E on rank 0. Memory: 5464.25 MB.\n",
      "Connected all of area supramarginal, layer IV and population I on rank 0. Memory: 5464.25 MB.\n",
      "Connected all of area supramarginal, layer V and population E on rank 0. Memory: 5464.25 MB.\n",
      "Connected all of area supramarginal, layer V and population I on rank 0. Memory: 5464.25 MB.\n",
      "Connected all of area supramarginal, layer VI and population E on rank 0. Memory: 5464.25 MB.\n",
      "Connected all of area supramarginal, layer VI and population I on rank 0. Memory: 5464.25 MB.\n",
      "Connected all of area temporalpole, layer II/III and population E on rank 0. Memory: 5464.25 MB.\n",
      "Connected all of area temporalpole, layer II/III and population I on rank 0. Memory: 5464.25 MB.\n",
      "Connected all of area temporalpole, layer IV and population E on rank 0. Memory: 5464.25 MB.\n",
      "Connected all of area temporalpole, layer IV and population I on rank 0. Memory: 5464.25 MB.\n",
      "Connected all of area temporalpole, layer V and population E on rank 0. Memory: 5464.25 MB.\n",
      "Connected all of area temporalpole, layer V and population I on rank 0. Memory: 5464.25 MB.\n",
      "Connected all of area temporalpole, layer VI and population E on rank 0. Memory: 5464.25 MB.\n",
      "Connected all of area temporalpole, layer VI and population I on rank 0. Memory: 5464.25 MB.\n",
      "Connected all of area transversetemporal, layer II/III and population E on rank 0. Memory: 5464.25 MB.\n",
      "Connected all of area transversetemporal, layer II/III and population I on rank 0. Memory: 5464.25 MB.\n",
      "Connected all of area transversetemporal, layer IV and population E on rank 0. Memory: 5464.25 MB.\n",
      "Connected all of area transversetemporal, layer IV and population I on rank 0. Memory: 5464.25 MB.\n",
      "Connected all of area transversetemporal, layer V and population E on rank 0. Memory: 5464.25 MB.\n",
      "Connected all of area transversetemporal, layer V and population I on rank 0. Memory: 5464.25 MB.\n",
      "Connected all of area transversetemporal, layer VI and population E on rank 0. Memory: 5464.25 MB.\n",
      "Connected all of area transversetemporal, layer VI and population I on rank 0. Memory: 5464.25 MB.\n",
      "Memory on rank 0 after creating connections: 5464.25MB\n",
      "Poisson background input is connected\n",
      "Single spike generator input is connected\n",
      "Spike detector connected\n",
      "2024-10-15 22:11:17.028682 Start simulating\n",
      "2024-10-15 22:11:31.237526 Simulation finished\n",
      "\n",
      "Oct 15 22:11:18 NodeManager::prepare_nodes [Info]: \n",
      "    Preparing 19390 nodes for simulation.\n",
      "\n",
      "Oct 15 22:11:19 SimulationManager::start_updating_ [Info]: \n",
      "    Number of local nodes: 19390\n",
      "    Simulation time (ms): 2000\n",
      "    Number of OpenMP threads: 8\n",
      "    Not using MPI\n",
      "\n",
      "Oct 15 22:11:31 SimulationManager::run [Info]: \n",
      "    Simulation finished.\n"
     ]
    }
   ],
   "source": [
    "# Set output directory according to hashes, instantiate the Network\n",
    "# and run the simulation\n",
    "data_path = os.path.join(outpath, net_hash, sim_hash)\n",
    "num_threads = int(8)\n",
    "sim.setup(data_path, num_threads)\n",
    "sim.simulate()"
   ]
  },
  {
   "cell_type": "markdown",
   "metadata": {},
   "source": [
    "### Analysis"
   ]
  },
  {
   "cell_type": "code",
   "execution_count": 13,
   "metadata": {},
   "outputs": [
    {
     "name": "stdout",
     "output_type": "stream",
     "text": [
      "Results will be written to /home/shimoura/Github/humam-add-downscaling-factor/out/5c92d51068c956a81d67d16610aa9dcc/e6f6894f7ce545b48d43876532c39947/f24eba850dd1538ce2f9ef65d941b8b8/plots\n",
      "Plots will be written to /home/shimoura/Github/humam-add-downscaling-factor/out/5c92d51068c956a81d67d16610aa9dcc/e6f6894f7ce545b48d43876532c39947/f24eba850dd1538ce2f9ef65d941b8b8/plots\n",
      "_readPopGids took 0.006 s\n",
      "Loading SpikeTrains from gdf\n"
     ]
    },
    {
     "name": "stderr",
     "output_type": "stream",
     "text": [
      "/home/shimoura/Github/humam-add-downscaling-factor/./src/simulation.py:553: YAMLLoadWarning:calling yaml.load() without Loader=... is deprecated, as the default Loader is unsafe. Please read https://msg.pyyaml.org/load for full details.\n"
     ]
    },
    {
     "name": "stdout",
     "output_type": "stream",
     "text": [
      "_readSpikes took 0.983 s\n"
     ]
    },
    {
     "name": "stderr",
     "output_type": "stream",
     "text": [
      "/home/shimoura/Github/humam-add-downscaling-factor/./src/analysis.py:1289: FutureWarning:iteritems is deprecated and will be removed in a future version. Use .items instead.\n",
      "/home/shimoura/Github/humam-add-downscaling-factor/./src/analysis.py:1289: FutureWarning:iteritems is deprecated and will be removed in a future version. Use .items instead.\n",
      "/home/shimoura/Github/humam-add-downscaling-factor/./src/analysis.py:1289: FutureWarning:iteritems is deprecated and will be removed in a future version. Use .items instead.\n",
      "/home/shimoura/Github/humam-add-downscaling-factor/./src/analysis.py:1289: FutureWarning:iteritems is deprecated and will be removed in a future version. Use .items instead.\n",
      "/home/shimoura/Github/humam-add-downscaling-factor/./src/analysis.py:1289: FutureWarning:iteritems is deprecated and will be removed in a future version. Use .items instead.\n",
      "/home/shimoura/Github/humam-add-downscaling-factor/./src/analysis.py:1289: FutureWarning:iteritems is deprecated and will be removed in a future version. Use .items instead.\n",
      "/home/shimoura/Github/humam-add-downscaling-factor/./src/analysis.py:1289: FutureWarning:iteritems is deprecated and will be removed in a future version. Use .items instead.\n",
      "/home/shimoura/Github/humam-add-downscaling-factor/./src/analysis.py:1289: FutureWarning:iteritems is deprecated and will be removed in a future version. Use .items instead.\n",
      "/home/shimoura/Github/humam-add-downscaling-factor/./src/analysis.py:1289: FutureWarning:iteritems is deprecated and will be removed in a future version. Use .items instead.\n",
      "/home/shimoura/Github/humam-add-downscaling-factor/./src/analysis.py:1289: FutureWarning:iteritems is deprecated and will be removed in a future version. Use .items instead.\n",
      "/home/shimoura/Github/humam-add-downscaling-factor/./src/analysis.py:1289: FutureWarning:iteritems is deprecated and will be removed in a future version. Use .items instead.\n",
      "/home/shimoura/Github/humam-add-downscaling-factor/./src/analysis.py:1289: FutureWarning:iteritems is deprecated and will be removed in a future version. Use .items instead.\n",
      "/home/shimoura/Github/humam-add-downscaling-factor/./src/analysis.py:1289: FutureWarning:iteritems is deprecated and will be removed in a future version. Use .items instead.\n",
      "/home/shimoura/Github/humam-add-downscaling-factor/./src/analysis.py:1289: FutureWarning:iteritems is deprecated and will be removed in a future version. Use .items instead.\n",
      "/home/shimoura/Github/humam-add-downscaling-factor/./src/analysis.py:1289: FutureWarning:iteritems is deprecated and will be removed in a future version. Use .items instead.\n",
      "/home/shimoura/Github/humam-add-downscaling-factor/./src/analysis.py:1289: FutureWarning:iteritems is deprecated and will be removed in a future version. Use .items instead.\n",
      "/home/shimoura/Github/humam-add-downscaling-factor/./src/analysis.py:1289: FutureWarning:iteritems is deprecated and will be removed in a future version. Use .items instead.\n",
      "/home/shimoura/Github/humam-add-downscaling-factor/./src/analysis.py:1289: FutureWarning:iteritems is deprecated and will be removed in a future version. Use .items instead.\n",
      "/home/shimoura/Github/humam-add-downscaling-factor/./src/analysis.py:1289: FutureWarning:iteritems is deprecated and will be removed in a future version. Use .items instead.\n",
      "/home/shimoura/Github/humam-add-downscaling-factor/./src/analysis.py:1289: FutureWarning:iteritems is deprecated and will be removed in a future version. Use .items instead.\n",
      "/home/shimoura/Github/humam-add-downscaling-factor/./src/analysis.py:1289: FutureWarning:iteritems is deprecated and will be removed in a future version. Use .items instead.\n",
      "/home/shimoura/Github/humam-add-downscaling-factor/./src/analysis.py:1289: FutureWarning:iteritems is deprecated and will be removed in a future version. Use .items instead.\n",
      "/home/shimoura/Github/humam-add-downscaling-factor/./src/analysis.py:1289: FutureWarning:iteritems is deprecated and will be removed in a future version. Use .items instead.\n",
      "/home/shimoura/Github/humam-add-downscaling-factor/./src/analysis.py:1289: FutureWarning:iteritems is deprecated and will be removed in a future version. Use .items instead.\n",
      "/home/shimoura/Github/humam-add-downscaling-factor/./src/analysis.py:1289: FutureWarning:iteritems is deprecated and will be removed in a future version. Use .items instead.\n",
      "/home/shimoura/Github/humam-add-downscaling-factor/./src/analysis.py:1289: FutureWarning:iteritems is deprecated and will be removed in a future version. Use .items instead.\n",
      "/home/shimoura/Github/humam-add-downscaling-factor/./src/analysis.py:1289: FutureWarning:iteritems is deprecated and will be removed in a future version. Use .items instead.\n",
      "/home/shimoura/Github/humam-add-downscaling-factor/./src/analysis.py:1289: FutureWarning:iteritems is deprecated and will be removed in a future version. Use .items instead.\n",
      "/home/shimoura/Github/humam-add-downscaling-factor/./src/analysis.py:1289: FutureWarning:iteritems is deprecated and will be removed in a future version. Use .items instead.\n",
      "/home/shimoura/Github/humam-add-downscaling-factor/./src/analysis.py:1289: FutureWarning:iteritems is deprecated and will be removed in a future version. Use .items instead.\n",
      "/home/shimoura/Github/humam-add-downscaling-factor/./src/analysis.py:1289: FutureWarning:iteritems is deprecated and will be removed in a future version. Use .items instead.\n",
      "/home/shimoura/Github/humam-add-downscaling-factor/./src/analysis.py:1289: FutureWarning:iteritems is deprecated and will be removed in a future version. Use .items instead.\n",
      "/home/shimoura/Github/humam-add-downscaling-factor/./src/analysis.py:1289: FutureWarning:iteritems is deprecated and will be removed in a future version. Use .items instead.\n",
      "/home/shimoura/Github/humam-add-downscaling-factor/./src/analysis.py:1289: FutureWarning:iteritems is deprecated and will be removed in a future version. Use .items instead.\n"
     ]
    }
   ],
   "source": [
    "# Read simulation dict\n",
    "sim_folder = os.path.join(outpath, net_hash, sim_hash)\n",
    "sim_dict = simulationDictFromDump(sim_folder)\n",
    "\n",
    "# Create Analysis class and export it\n",
    "ana = Analysis(ana_params, net_dict, sim_dict, sim_folder, base_path)\n",
    "ana.dump(sim_folder)\n",
    "\n",
    "# Do the analysis\n",
    "# ana.fullAnalysis()\n",
    "\n",
    "ana.popGids = ana._readPopGids()\n",
    "ana.spikes = ana._readSpikes()\n",
    "for area in net.net['area_list']:\n",
    "    ana.plotRasterArea(area)"
   ]
  },
  {
   "cell_type": "code",
   "execution_count": 14,
   "metadata": {},
   "outputs": [
    {
     "name": "stdout",
     "output_type": "stream",
     "text": [
      "meanFiringRate took 0.028 s\n"
     ]
    },
    {
     "data": {
      "text/plain": [
       "area                layer   pop\n",
       "bankssts            II/III  E       27.544218\n",
       "                            I       39.663492\n",
       "                    IV      E      100.352490\n",
       "                            I      131.188406\n",
       "                    V       E       30.805281\n",
       "                                      ...    \n",
       "transversetemporal  IV      I       84.454106\n",
       "                    V       E       58.795918\n",
       "                            I       54.500000\n",
       "                    VI      E      114.404762\n",
       "                            I      201.666667\n",
       "Length: 254, dtype: float64"
      ]
     },
     "execution_count": 14,
     "metadata": {},
     "output_type": "execute_result"
    }
   ],
   "source": [
    "ana.meanFiringRate()"
   ]
  }
 ],
 "metadata": {
  "kernelspec": {
   "display_name": "humam_nest2.20.2",
   "language": "python",
   "name": "python3"
  },
  "language_info": {
   "codemirror_mode": {
    "name": "ipython",
    "version": 3
   },
   "file_extension": ".py",
   "mimetype": "text/x-python",
   "name": "python",
   "nbconvert_exporter": "python",
   "pygments_lexer": "ipython3",
   "version": "3.9.19"
  }
 },
 "nbformat": 4,
 "nbformat_minor": 4
}
