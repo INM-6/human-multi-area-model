{
 "cells": [
  {
   "cell_type": "markdown",
   "metadata": {},
   "source": [
    "# Multi-Area Network Simulation and Analysis\n",
    "\n",
    "This Jupyter Notebook documents the workflow for simulating and analyzing a multi-area network model. The notebook is structured into several sections, each focusing on a specific part of the process, from setting up the environment to running simulations and performing analyses. Below is an overview of the key steps involved:\n",
    "\n",
    "1. **Setting Up the Environment**: Import necessary modules and define paths and parameters. This includes importing default network, simulation, and analysis parameters, as well as setting the base path for experiments. These steps are crucial for ensuring that the subsequent steps in the workflow have access to the required configurations and data.\n",
    "\n",
    "2. **Creating the Network**: Utilize the `NeuronNumbers` and `SynapseNumbers` classes to calculate the number of neurons and synapses in the network. The network is then created using these calculations and exported for further use.\n",
    "\n",
    "3. **Running the Simulation**: Set up and run the simulation using the defined network and simulation parameters. The simulation results are exported and can be used for analysis.\n",
    "\n",
    "4. **Analysis**: Perform various analyses on the simulation results, including plotting raster plots and calculating mean firing rates. The analysis results are exported for further inspection."
   ]
  },
  {
   "cell_type": "code",
   "execution_count": 1,
   "metadata": {},
   "outputs": [],
   "source": [
    "import os\n",
    "import sys\n",
    "import importlib.util\n",
    "\n",
    "sys.path.append('./src/')\n",
    "\n",
    "from helpers.snakemake import nested_dict_update, get_git_revision_hash\n",
    "from default_net_params import params as net_params\n",
    "from data_preprocessing.cytoarchitecture import NeuronNumbers\n",
    "from data_preprocessing.connectivity import SynapseNumbers\n",
    "from network import Network"
   ]
  },
  {
   "cell_type": "code",
   "execution_count": null,
   "metadata": {},
   "outputs": [],
   "source": [
    "# Import the default simulation parameters\n",
    "from default_sim_params import params as sim_params\n",
    "from network import networkDictFromDump\n",
    "from simulation import Simulation"
   ]
  },
  {
   "cell_type": "code",
   "execution_count": 3,
   "metadata": {},
   "outputs": [],
   "source": [
    "# Import the default analysis parameters\n",
    "from simulation import simulationDictFromDump\n",
    "from analysis import Analysis\n",
    "from default_ana_params import params as ana_params"
   ]
  },
  {
   "cell_type": "code",
   "execution_count": 4,
   "metadata": {},
   "outputs": [],
   "source": [
    "# Set base path\n",
    "base_path = os.getcwd()\n",
    "experiments_path = os.path.join(base_path, 'experiments')"
   ]
  },
  {
   "cell_type": "markdown",
   "metadata": {},
   "source": [
    "### Setting Up the Environment\n",
    "\n",
    "In this section, we set up the environment by importing necessary modules and defining paths and parameters. This includes importing default network, simulation, and analysis parameters, as well as setting the base path for experiments. These steps are crucial for ensuring that the subsequent steps in the workflow have access to the required configurations and data."
   ]
  },
  {
   "cell_type": "code",
   "execution_count": 5,
   "metadata": {},
   "outputs": [],
   "source": [
    "# Set default parameters\n",
    "outpath = net_params['outpath']\n",
    "\n",
    "# Set simulation parameters\n",
    "sim_params['t_sim'] = 2000.0\n",
    "sim_params['master_seed'] = 2903\n",
    "\n",
    "# Set plotting parameters\n",
    "ana_params['plotRasterArea']['low'] = 1600\n",
    "ana_params['plotRasterArea']['high'] = 2000\n",
    "ana_params['plotRasterArea']['fraction'] = 0.5\n",
    "\n",
    "# Set scaling parameters\n",
    "scaling_factor = 0.01\n",
    "net_params['N_scaling'] = scaling_factor\n",
    "net_params['K_scaling'] = scaling_factor\n",
    "\n",
    "# Mean fullscale firing rate\n",
    "net_params['fullscale_rates'] = './simulated_data/base_theory_rates.pkl'"
   ]
  },
  {
   "cell_type": "markdown",
   "metadata": {},
   "source": [
    "### Creating the network\n",
    "\n",
    "Here the network is created using the `NeuronNumbers` and `SynapseNumbers` classes. The `NeuronNumbers` class calculates the number of neurons in the network. The `SynapseNumbers` class calculates the number of synapses in the network and the synaptic weights."
   ]
  },
  {
   "cell_type": "code",
   "execution_count": null,
   "metadata": {},
   "outputs": [],
   "source": [
    "# Create Network class\n",
    "NN = NeuronNumbers(\n",
    "    surface_area=net_params['surface_area'],\n",
    "    **net_params['cytoarchitecture_params']\n",
    ")"
   ]
  },
  {
   "cell_type": "code",
   "execution_count": 7,
   "metadata": {},
   "outputs": [],
   "source": [
    "# Create Synapse class\n",
    "SN = SynapseNumbers(\n",
    "    NN=NN,\n",
    "    **net_params['predictive_connectomic_params']\n",
    ")"
   ]
  },
  {
   "cell_type": "code",
   "execution_count": 8,
   "metadata": {},
   "outputs": [],
   "source": [
    "# Create Network\n",
    "net = Network(NN, SN, net_params)\n",
    "\n",
    "# Export the network\n",
    "net.dump(outpath)\n",
    "\n",
    "# Get the network hash\n",
    "net_hash = net.getHash()\n",
    "\n",
    "# To access net object key, use net.net.keys()\n",
    "# Ex.: to access neuron numbers, use net.net['neuron_numbers']"
   ]
  },
  {
   "cell_type": "markdown",
   "metadata": {},
   "source": [
    "### Running the simulation"
   ]
  },
  {
   "cell_type": "code",
   "execution_count": null,
   "metadata": {},
   "outputs": [],
   "source": [
    "# Read network dict\n",
    "net_folder = os.path.join(outpath, net_hash)\n",
    "net_dict = networkDictFromDump(net_folder)"
   ]
  },
  {
   "cell_type": "code",
   "execution_count": 10,
   "metadata": {},
   "outputs": [],
   "source": [
    "# Create Simulation class, export it and calculate the hash\n",
    "sim = Simulation(sim_params, net_dict)\n",
    "sim.dump(net_folder)\n",
    "sim_hash = sim.getHash()"
   ]
  },
  {
   "cell_type": "code",
   "execution_count": null,
   "metadata": {},
   "outputs": [],
   "source": [
    "net.net['neuron_numbers'].sum()"
   ]
  },
  {
   "cell_type": "code",
   "execution_count": null,
   "metadata": {},
   "outputs": [],
   "source": [
    "# Set output directory according to hashes, instantiate the Network\n",
    "# and run the simulation\n",
    "data_path = os.path.join(outpath, net_hash, sim_hash)\n",
    "num_threads = int(8)\n",
    "sim.setup(data_path, num_threads)\n",
    "sim.simulate()"
   ]
  },
  {
   "cell_type": "markdown",
   "metadata": {},
   "source": [
    "### Analysis"
   ]
  },
  {
   "cell_type": "code",
   "execution_count": null,
   "metadata": {},
   "outputs": [],
   "source": [
    "# Read simulation dict\n",
    "sim_folder = os.path.join(outpath, net_hash, sim_hash)\n",
    "sim_dict = simulationDictFromDump(sim_folder)\n",
    "\n",
    "# Create Analysis class and export it\n",
    "ana = Analysis(ana_params, net_dict, sim_dict, sim_folder, base_path)\n",
    "ana.dump(sim_folder)\n",
    "\n",
    "# Do the analysis\n",
    "# ana.fullAnalysis()\n",
    "\n",
    "ana.popGids = ana._readPopGids()\n",
    "ana.spikes = ana._readSpikes()\n",
    "for area in net.net['area_list']:\n",
    "    ana.plotRasterArea(area)"
   ]
  },
  {
   "cell_type": "code",
   "execution_count": null,
   "metadata": {},
   "outputs": [],
   "source": [
    "ana.meanFiringRate()"
   ]
  }
 ],
 "metadata": {
  "kernelspec": {
   "display_name": "humam_nest2.20.2",
   "language": "python",
   "name": "python3"
  },
  "language_info": {
   "codemirror_mode": {
    "name": "ipython",
    "version": 3
   },
   "file_extension": ".py",
   "mimetype": "text/x-python",
   "name": "python",
   "nbconvert_exporter": "python",
   "pygments_lexer": "ipython3",
   "version": "3.9.19"
  }
 },
 "nbformat": 4,
 "nbformat_minor": 4
}
