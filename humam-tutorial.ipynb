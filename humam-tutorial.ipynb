{
 "cells": [
  {
   "cell_type": "code",
   "execution_count": 1,
   "metadata": {},
   "outputs": [],
   "source": [
    "import os\n",
    "import sys\n",
    "import importlib.util\n",
    "\n",
    "sys.path.append('./src/')\n",
    "\n",
    "from helpers.snakemake import nested_dict_update, get_git_revision_hash\n",
    "from default_net_params import params as net_params\n",
    "from data_preprocessing.cytoarchitecture import NeuronNumbers\n",
    "from data_preprocessing.connectivity import SynapseNumbers\n",
    "from network import Network"
   ]
  },
  {
   "cell_type": "code",
   "execution_count": 2,
   "metadata": {},
   "outputs": [],
   "source": [
    "# Set base path\n",
    "base_path = os.getcwd()"
   ]
  },
  {
   "cell_type": "code",
   "execution_count": 3,
   "metadata": {},
   "outputs": [],
   "source": [
    "# Load script from specified path sys.argv[1] (snakemake {input})\n",
    "# Does nothing else than `import path/to/script as exp` would do\n",
    "experiment_file = './experiments/experiment_stabilized_groundstate.py'\n",
    "conf_name, _ = os.path.splitext(os.path.basename(experiment_file))\n",
    "conf_path = os.path.join(os.getcwd(), './experiments/experiment_stabilized_groundstate.py')\n",
    "spec = importlib.util.spec_from_file_location(conf_name, conf_path)\n",
    "exp = importlib.util.module_from_spec(spec)\n",
    "spec.loader.exec_module(exp)"
   ]
  },
  {
   "cell_type": "code",
   "execution_count": 4,
   "metadata": {},
   "outputs": [],
   "source": [
    "# Update default parameters with parameters specified in exp\n",
    "nested_dict_update(net_params, exp.net_params)\n",
    "outpath = net_params['outpath']\n",
    "\n",
    "# Set scaling parameters\n",
    "net_params['N_scaling'] = 0.001\n",
    "net_params['K_scaling'] = 0.001"
   ]
  },
  {
   "cell_type": "markdown",
   "metadata": {},
   "source": [
    "### Creating the network\n",
    "\n",
    "Here the network is created using the `NeuronNumbers` and `SynapseNumbers` classes. The `NeuronNumbers` class calculates the number of neurons in the network. The `SynapseNumbers` class calculates the number of synapses in the network and the synaptic weights."
   ]
  },
  {
   "cell_type": "code",
   "execution_count": 5,
   "metadata": {},
   "outputs": [
    {
     "name": "stdout",
     "output_type": "stream",
     "text": [
      "Dropping layer IV in caudalmiddlefrontal because it contains 3375 < 5000 neurons.\n",
      "Dropping layer IV in lateraloccipital because it contains 3000 < 5000 neurons.\n",
      "Dropping layer VI in parahippocampal because it contains 3200 < 5000 neurons.\n",
      "Dropping layer IV in parsorbitalis because it contains 625 < 5000 neurons.\n"
     ]
    }
   ],
   "source": [
    "# Create Network class\n",
    "NN = NeuronNumbers(\n",
    "    surface_area=net_params['surface_area'],\n",
    "    **net_params['cytoarchitecture_params']\n",
    ")\n",
    "\n",
    "# Create Synapse class\n",
    "SN = SynapseNumbers(\n",
    "    NN=NN,\n",
    "    **net_params['predictive_connectomic_params']\n",
    ")\n",
    "\n",
    "# Create Network\n",
    "net = Network(NN, SN, net_params)\n",
    "\n",
    "# Export the network\n",
    "net.dump(outpath)\n",
    "\n",
    "# Get the network hash\n",
    "net_hash = net.getHash()\n",
    "\n",
    "# To access net object key, use net.net.keys()\n",
    "# Ex.: to access neuron numbers, use net.net['neuron_numbers']\n",
    "\n",
    "# Save the network hash\n",
    "hash_file = net_hash\n",
    "hash_fn = os.path.join(os.getcwd(), hash_file)\n",
    "with open(hash_fn, 'w') as f:\n",
    "    f.write(net.getHash())\n",
    "\n",
    "# Save the humam repository hash\n",
    "net_folder = os.path.join(outpath, net.getHash())\n",
    "git_fn = os.path.join(net_folder, \"git_hash.txt\")\n",
    "with open(git_fn, 'w') as f:\n",
    "    f.write(get_git_revision_hash())"
   ]
  },
  {
   "cell_type": "markdown",
   "metadata": {},
   "source": [
    "### Running the simulation"
   ]
  },
  {
   "cell_type": "code",
   "execution_count": 6,
   "metadata": {},
   "outputs": [
    {
     "name": "stdout",
     "output_type": "stream",
     "text": [
      "[INFO] [2024.5.2 16:15:48 /home/conda/feedstock_root/build_artifacts/nest-simulator_1636957195130/work/nestkernel/rng_manager.cpp:217 @ Network::create_rngs_] : Creating default RNGs\n",
      "[INFO] [2024.5.2 16:15:48 /home/conda/feedstock_root/build_artifacts/nest-simulator_1636957195130/work/nestkernel/rng_manager.cpp:260 @ Network::create_grng_] : Creating new default global RNG\n",
      "\n",
      "              -- N E S T --\n",
      "  Copyright (C) 2004 The NEST Initiative\n",
      "\n",
      " Version: nest-2.20.2\n",
      " Built: Nov 15 2021 06:23:02\n",
      "\n",
      " This program is provided AS IS and comes with\n",
      " NO WARRANTY. See the file LICENSE for details.\n",
      "\n",
      " Problems or suggestions?\n",
      "   Visit https://www.nest-simulator.org\n",
      "\n",
      " Type 'nest.help()' to find out more about NEST.\n",
      "\n"
     ]
    }
   ],
   "source": [
    "from helpers.snakemake import nested_dict_update, get_git_revision_hash\n",
    "from default_sim_params import params as sim_params\n",
    "from network import networkDictFromDump\n",
    "from simulation import Simulation"
   ]
  },
  {
   "cell_type": "code",
   "execution_count": 7,
   "metadata": {},
   "outputs": [],
   "source": [
    "# Update default parameters with parameters specified in exp\n",
    "nested_dict_update(net_params, exp.net_params)\n",
    "nested_dict_update(sim_params, exp.sim_params)"
   ]
  },
  {
   "cell_type": "code",
   "execution_count": 8,
   "metadata": {},
   "outputs": [],
   "source": [
    "# Read network dict\n",
    "net_folder = os.path.join(outpath, net_hash)\n",
    "net_dict = networkDictFromDump(net_folder)"
   ]
  },
  {
   "cell_type": "code",
   "execution_count": 9,
   "metadata": {},
   "outputs": [],
   "source": [
    "# Create Simulation class, export it and calculate the hash\n",
    "sim = Simulation(sim_params, net_dict)\n",
    "sim.dump(net_folder)\n",
    "sim_hash = sim.getHash()"
   ]
  },
  {
   "cell_type": "code",
   "execution_count": 10,
   "metadata": {},
   "outputs": [
    {
     "name": "stdout",
     "output_type": "stream",
     "text": [
      "data directory already exists\n",
      "Data will be written to /home/shimoura/Documents/GitHub/humam/out/d9815dd7185e65c5602f790ee0f7026c/de4934b8c7777751f7c516e2ad35f50a\n",
      "\n",
      "May 02 16:15:48 ModelManager::clear_models_ [Info]: \n",
      "    Models will be cleared and parameters reset.\n",
      "\n",
      "May 02 16:15:48 Network::create_rngs_ [Info]: \n",
      "    Deleting existing random number generators\n",
      "\n",
      "May 02 16:15:48 Network::create_rngs_ [Info]: \n",
      "    Creating default RNGs\n",
      "\n",
      "May 02 16:15:48 Network::create_grng_ [Info]: \n",
      "    Creating new default global RNG\n",
      "Master seed: 2106 \n",
      "\n",
      "May 02 16:15:48 ModelManager::clear_models_ [Info]: \n",
      "    Models will be cleared and parameters reset.\n",
      "\n",
      "May 02 16:15:48 Network::create_rngs_ [Info]: \n",
      "    Deleting existing random number generators\n",
      "\n",
      "May 02 16:15:48 Network::create_rngs_ [Info]: \n",
      "    Creating default RNGs\n",
      "\n",
      "May 02 16:15:48 Network::create_grng_ [Info]: \n",
      "    Creating new default global RNG\n",
      "Number of total processes: 4\n",
      "Seeds for random number generators of virtual processes: [2111, 2112, 2113, 2114]\n",
      "Global random number generator seed: 2110\n",
      "Memory on rank 0 before creating populations: 2020.47MB\n",
      "\n",
      "May 02 16:15:48 SimulationManager::set_status [Info]: \n",
      "    Temporal resolution changed.\n"
     ]
    },
    {
     "ename": "NESTErrors.ArgumentType",
     "evalue": "('ArgumentType in Create: The type of one or more parameters did not match the argument(s) of this function.', 'ArgumentType', <SLILiteral: Create>, ': The type of one or more parameters did not match the argument(s) of this function.')",
     "output_type": "error",
     "traceback": [
      "\u001b[0;31m---------------------------------------------------------------------------\u001b[0m",
      "\u001b[0;31mNESTErrors.ArgumentType\u001b[0m                   Traceback (most recent call last)",
      "\u001b[1;32m/home/shimoura/Documents/GitHub/humam/humam-tutorial.ipynb Cell 12\u001b[0m line \u001b[0;36m5\n\u001b[1;32m      <a href='vscode-notebook-cell:/home/shimoura/Documents/GitHub/humam/humam-tutorial.ipynb#X33sZmlsZQ%3D%3D?line=2'>3</a>\u001b[0m data_path \u001b[39m=\u001b[39m os\u001b[39m.\u001b[39mpath\u001b[39m.\u001b[39mjoin(outpath, net_hash, sim_hash)\n\u001b[1;32m      <a href='vscode-notebook-cell:/home/shimoura/Documents/GitHub/humam/humam-tutorial.ipynb#X33sZmlsZQ%3D%3D?line=3'>4</a>\u001b[0m num_threads \u001b[39m=\u001b[39m \u001b[39mint\u001b[39m(\u001b[39m4\u001b[39m)\n\u001b[0;32m----> <a href='vscode-notebook-cell:/home/shimoura/Documents/GitHub/humam/humam-tutorial.ipynb#X33sZmlsZQ%3D%3D?line=4'>5</a>\u001b[0m sim\u001b[39m.\u001b[39;49msetup(data_path, num_threads)\n\u001b[1;32m      <a href='vscode-notebook-cell:/home/shimoura/Documents/GitHub/humam/humam-tutorial.ipynb#X33sZmlsZQ%3D%3D?line=5'>6</a>\u001b[0m sim\u001b[39m.\u001b[39msimulate()\n",
      "File \u001b[0;32m~/Documents/GitHub/humam/./src/simulation.py:463\u001b[0m, in \u001b[0;36mSimulation.setup\u001b[0;34m(self, data_path, num_threads)\u001b[0m\n\u001b[1;32m    461\u001b[0m \u001b[39mself\u001b[39m\u001b[39m.\u001b[39mset_data_path(data_path)\n\u001b[1;32m    462\u001b[0m \u001b[39mself\u001b[39m\u001b[39m.\u001b[39msetup_nest(num_threads)\n\u001b[0;32m--> 463\u001b[0m \u001b[39mself\u001b[39;49m\u001b[39m.\u001b[39;49mcreate_populations()\n\u001b[1;32m    464\u001b[0m \u001b[39mself\u001b[39m\u001b[39m.\u001b[39mcreate_devices()\n\u001b[1;32m    465\u001b[0m \u001b[39mself\u001b[39m\u001b[39m.\u001b[39mcreate_poisson()\n",
      "File \u001b[0;32m~/Documents/GitHub/humam/./src/simulation.py:139\u001b[0m, in \u001b[0;36mSimulation.create_populations\u001b[0;34m(self)\u001b[0m\n\u001b[1;32m    135\u001b[0m \u001b[39melse\u001b[39;00m:\n\u001b[1;32m    136\u001b[0m     \u001b[39mraise\u001b[39;00m \u001b[39mNotImplementedError\u001b[39;00m(\n\u001b[1;32m    137\u001b[0m         \u001b[39m\"\u001b[39m\u001b[39mPopulations have to be E or I\u001b[39m\u001b[39m\"\u001b[39m\n\u001b[1;32m    138\u001b[0m     )\n\u001b[0;32m--> 139\u001b[0m population \u001b[39m=\u001b[39m nest\u001b[39m.\u001b[39;49mCreate(neuron_model_pop, nn)\n\u001b[1;32m    140\u001b[0m nest\u001b[39m.\u001b[39mSetStatus(population, neuron_params_pop)\n\u001b[1;32m    141\u001b[0m \u001b[39m# Distribute parameters and initial voltage\u001b[39;00m\n",
      "File \u001b[0;32m~/miniconda3/envs/humam_nest2.20.2/lib64/python3.9/site-packages/nest/ll_api.py:246\u001b[0m, in \u001b[0;36mstack_checker.<locals>.stack_checker_func\u001b[0;34m(*args, **kwargs)\u001b[0m\n\u001b[1;32m    243\u001b[0m \u001b[39m@functools\u001b[39m\u001b[39m.\u001b[39mwraps(f)\n\u001b[1;32m    244\u001b[0m \u001b[39mdef\u001b[39;00m \u001b[39mstack_checker_func\u001b[39m(\u001b[39m*\u001b[39margs, \u001b[39m*\u001b[39m\u001b[39m*\u001b[39mkwargs):\n\u001b[1;32m    245\u001b[0m     \u001b[39mif\u001b[39;00m \u001b[39mnot\u001b[39;00m get_debug():\n\u001b[0;32m--> 246\u001b[0m         \u001b[39mreturn\u001b[39;00m f(\u001b[39m*\u001b[39;49margs, \u001b[39m*\u001b[39;49m\u001b[39m*\u001b[39;49mkwargs)\n\u001b[1;32m    247\u001b[0m     \u001b[39melse\u001b[39;00m:\n\u001b[1;32m    248\u001b[0m         sr(\u001b[39m'\u001b[39m\u001b[39mcount\u001b[39m\u001b[39m'\u001b[39m)\n",
      "File \u001b[0;32m~/miniconda3/envs/humam_nest2.20.2/lib64/python3.9/site-packages/nest/lib/hl_api_nodes.py:79\u001b[0m, in \u001b[0;36mCreate\u001b[0;34m(model, n, params)\u001b[0m\n\u001b[1;32m     76\u001b[0m     cmd \u001b[39m=\u001b[39m \u001b[39m\"\u001b[39m\u001b[39m/\u001b[39m\u001b[39m%s\u001b[39;00m\u001b[39m exch Create\u001b[39m\u001b[39m\"\u001b[39m \u001b[39m%\u001b[39m model\n\u001b[1;32m     78\u001b[0m sps(n)\n\u001b[0;32m---> 79\u001b[0m sr(cmd)\n\u001b[1;32m     81\u001b[0m last_gid \u001b[39m=\u001b[39m spp()\n\u001b[1;32m     82\u001b[0m gids \u001b[39m=\u001b[39m \u001b[39mtuple\u001b[39m(\u001b[39mrange\u001b[39m(last_gid \u001b[39m-\u001b[39m n \u001b[39m+\u001b[39m \u001b[39m1\u001b[39m, last_gid \u001b[39m+\u001b[39m \u001b[39m1\u001b[39m))\n",
      "File \u001b[0;32m~/miniconda3/envs/humam_nest2.20.2/lib64/python3.9/site-packages/nest/ll_api.py:132\u001b[0m, in \u001b[0;36mcatching_sli_run\u001b[0;34m(cmd)\u001b[0m\n\u001b[1;32m    129\u001b[0m engine\u001b[39m.\u001b[39mrun(\u001b[39m'\u001b[39m\u001b[39mclear\u001b[39m\u001b[39m'\u001b[39m)\n\u001b[1;32m    131\u001b[0m exceptionCls \u001b[39m=\u001b[39m \u001b[39mgetattr\u001b[39m(kernel\u001b[39m.\u001b[39mNESTErrors, errorname)\n\u001b[0;32m--> 132\u001b[0m \u001b[39mraise\u001b[39;00m exceptionCls(commandname, message)\n",
      "\u001b[0;31mNESTErrors.ArgumentType\u001b[0m: ('ArgumentType in Create: The type of one or more parameters did not match the argument(s) of this function.', 'ArgumentType', <SLILiteral: Create>, ': The type of one or more parameters did not match the argument(s) of this function.')"
     ]
    }
   ],
   "source": [
    "# Set output directory according to hashes, instantiate the Network\n",
    "# and run the simulation\n",
    "data_path = os.path.join(outpath, net_hash, sim_hash)\n",
    "num_threads = int(4)\n",
    "sim.setup(data_path, num_threads)\n",
    "sim.simulate()"
   ]
  },
  {
   "cell_type": "code",
   "execution_count": null,
   "metadata": {},
   "outputs": [],
   "source": [
    "# Save the simulation hash\n",
    "hash_fn = os.path.join(os.getcwd(), sim_hash)\n",
    "with open(hash_fn, 'w') as f:\n",
    "    f.write(sim_hash)\n",
    "\n",
    "# Save the humam repository hash\n",
    "sim_folder = os.path.join(net_folder, sim_hash)\n",
    "git_fn = os.path.join(sim_folder, \"git_hash.txt\")\n",
    "with open(git_fn, 'w') as f:\n",
    "    f.write(get_git_revision_hash())"
   ]
  },
  {
   "cell_type": "markdown",
   "metadata": {},
   "source": [
    "### Analysis"
   ]
  },
  {
   "cell_type": "code",
   "execution_count": null,
   "metadata": {},
   "outputs": [],
   "source": [
    "from network import networkDictFromDump\n",
    "from simulation import simulationDictFromDump\n",
    "from analysis import Analysis\n",
    "from helpers.snakemake import nested_dict_update, get_git_revision_hash\n",
    "from default_ana_params import params as ana_params\n",
    "from default_net_params import params as net_params"
   ]
  },
  {
   "cell_type": "code",
   "execution_count": null,
   "metadata": {},
   "outputs": [],
   "source": [
    "# Update default parameters with parameters specified in exp\n",
    "nested_dict_update(net_params, exp.net_params)\n",
    "nested_dict_update(ana_params, exp.ana_params)\n",
    "\n",
    "# Read simulation dict\n",
    "sim_folder = os.path.join(outpath, net_hash, sim_hash)\n",
    "sim_dict = simulationDictFromDump(sim_folder)\n",
    "\n",
    "# Create Analysis class and export it\n",
    "ana = Analysis(ana_params, net_dict, sim_dict, sim_folder, base_path)\n",
    "ana.dump(sim_folder)\n",
    "\n",
    "# Do the analysis\n",
    "ana.fullAnalysis()"
   ]
  },
  {
   "cell_type": "code",
   "execution_count": null,
   "metadata": {},
   "outputs": [],
   "source": [
    "ana.plotRasterArea('bankssts')"
   ]
  }
 ],
 "metadata": {
  "kernelspec": {
   "display_name": "nest-granger",
   "language": "python",
   "name": "python3"
  },
  "language_info": {
   "codemirror_mode": {
    "name": "ipython",
    "version": 3
   },
   "file_extension": ".py",
   "mimetype": "text/x-python",
   "name": "python",
   "nbconvert_exporter": "python",
   "pygments_lexer": "ipython3",
   "version": "3.9.6"
  }
 },
 "nbformat": 4,
 "nbformat_minor": 2
}
